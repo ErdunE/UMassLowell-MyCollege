{
 "cells": [
  {
   "cell_type": "code",
   "execution_count": 54,
   "metadata": {},
   "outputs": [
    {
     "name": "stderr",
     "output_type": "stream",
     "text": [
      "Using TensorFlow backend.\n",
      "D:\\Anaconda3\\lib\\site-packages\\tensorflow\\python\\framework\\dtypes.py:523: FutureWarning: Passing (type, 1) or '1type' as a synonym of type is deprecated; in a future version of numpy, it will be understood as (type, (1,)) / '(1,)type'.\n",
      "  _np_qint8 = np.dtype([(\"qint8\", np.int8, 1)])\n",
      "D:\\Anaconda3\\lib\\site-packages\\tensorflow\\python\\framework\\dtypes.py:524: FutureWarning: Passing (type, 1) or '1type' as a synonym of type is deprecated; in a future version of numpy, it will be understood as (type, (1,)) / '(1,)type'.\n",
      "  _np_quint8 = np.dtype([(\"quint8\", np.uint8, 1)])\n",
      "D:\\Anaconda3\\lib\\site-packages\\tensorflow\\python\\framework\\dtypes.py:525: FutureWarning: Passing (type, 1) or '1type' as a synonym of type is deprecated; in a future version of numpy, it will be understood as (type, (1,)) / '(1,)type'.\n",
      "  _np_qint16 = np.dtype([(\"qint16\", np.int16, 1)])\n",
      "D:\\Anaconda3\\lib\\site-packages\\tensorflow\\python\\framework\\dtypes.py:526: FutureWarning: Passing (type, 1) or '1type' as a synonym of type is deprecated; in a future version of numpy, it will be understood as (type, (1,)) / '(1,)type'.\n",
      "  _np_quint16 = np.dtype([(\"quint16\", np.uint16, 1)])\n",
      "D:\\Anaconda3\\lib\\site-packages\\tensorflow\\python\\framework\\dtypes.py:527: FutureWarning: Passing (type, 1) or '1type' as a synonym of type is deprecated; in a future version of numpy, it will be understood as (type, (1,)) / '(1,)type'.\n",
      "  _np_qint32 = np.dtype([(\"qint32\", np.int32, 1)])\n",
      "D:\\Anaconda3\\lib\\site-packages\\tensorflow\\python\\framework\\dtypes.py:532: FutureWarning: Passing (type, 1) or '1type' as a synonym of type is deprecated; in a future version of numpy, it will be understood as (type, (1,)) / '(1,)type'.\n",
      "  np_resource = np.dtype([(\"resource\", np.ubyte, 1)])\n"
     ]
    }
   ],
   "source": [
    "### Load necessary libeary.\n",
    "\n",
    "import numpy as np\n",
    "import pandas as pd\n",
    "from tqdm import tqdm\n",
    "\n",
    "from sklearn.model_selection import train_test_split\n",
    "from sklearn.tree import DecisionTreeClassifier\n",
    "from sklearn.ensemble import RandomForestClassifier, GradientBoostingClassifier, AdaBoostClassifier\n",
    "from sklearn.neural_network import MLPClassifier\n",
    "\n",
    "from sklearn.metrics import roc_curve, auc\n",
    "import keras as K\n",
    "import matplotlib.pyplot as plt"
   ]
  },
  {
   "cell_type": "code",
   "execution_count": 5,
   "metadata": {},
   "outputs": [
    {
     "data": {
      "text/plain": [
       "(99474, 301)"
      ]
     },
     "execution_count": 5,
     "metadata": {},
     "output_type": "execute_result"
    }
   ],
   "source": [
    "### Load data.\n",
    "\n",
    "data = pd.read_csv('part_train_data.csv')\n",
    "data.shape"
   ]
  },
  {
   "cell_type": "code",
   "execution_count": 6,
   "metadata": {},
   "outputs": [
    {
     "data": {
      "text/html": [
       "<div>\n",
       "<style scoped>\n",
       "    .dataframe tbody tr th:only-of-type {\n",
       "        vertical-align: middle;\n",
       "    }\n",
       "\n",
       "    .dataframe tbody tr th {\n",
       "        vertical-align: top;\n",
       "    }\n",
       "\n",
       "    .dataframe thead th {\n",
       "        text-align: right;\n",
       "    }\n",
       "</style>\n",
       "<table border=\"1\" class=\"dataframe\">\n",
       "  <thead>\n",
       "    <tr style=\"text-align: right;\">\n",
       "      <th></th>\n",
       "      <th>Unnamed: 0</th>\n",
       "      <th>id</th>\n",
       "      <th>date</th>\n",
       "      <th>f1</th>\n",
       "      <th>f2</th>\n",
       "      <th>f3</th>\n",
       "      <th>f4</th>\n",
       "      <th>f5</th>\n",
       "      <th>f6</th>\n",
       "      <th>f7</th>\n",
       "      <th>...</th>\n",
       "      <th>f289</th>\n",
       "      <th>f290</th>\n",
       "      <th>f291</th>\n",
       "      <th>f292</th>\n",
       "      <th>f293</th>\n",
       "      <th>f294</th>\n",
       "      <th>f295</th>\n",
       "      <th>f296</th>\n",
       "      <th>f297</th>\n",
       "      <th>label</th>\n",
       "    </tr>\n",
       "  </thead>\n",
       "  <tbody>\n",
       "    <tr>\n",
       "      <td>0</td>\n",
       "      <td>656857</td>\n",
       "      <td>a08dfc51898f7056df3494c1ec079258aecea8be22c859...</td>\n",
       "      <td>20171030</td>\n",
       "      <td>1</td>\n",
       "      <td>1</td>\n",
       "      <td>0</td>\n",
       "      <td>0</td>\n",
       "      <td>100807.0</td>\n",
       "      <td>0</td>\n",
       "      <td>5</td>\n",
       "      <td>...</td>\n",
       "      <td>340.0</td>\n",
       "      <td>379.0</td>\n",
       "      <td>16.0</td>\n",
       "      <td>302.0</td>\n",
       "      <td>106.0</td>\n",
       "      <td>108.0</td>\n",
       "      <td>109.0</td>\n",
       "      <td>5.0</td>\n",
       "      <td>107.0</td>\n",
       "      <td>0</td>\n",
       "    </tr>\n",
       "    <tr>\n",
       "      <td>1</td>\n",
       "      <td>968151</td>\n",
       "      <td>d8a63c6251db058bc58e3ff629abb7acca2d34651cfa5e...</td>\n",
       "      <td>20170910</td>\n",
       "      <td>1</td>\n",
       "      <td>1</td>\n",
       "      <td>1</td>\n",
       "      <td>0</td>\n",
       "      <td>100804.0</td>\n",
       "      <td>1</td>\n",
       "      <td>7</td>\n",
       "      <td>...</td>\n",
       "      <td>302.0</td>\n",
       "      <td>302.0</td>\n",
       "      <td>117.0</td>\n",
       "      <td>302.0</td>\n",
       "      <td>220.0</td>\n",
       "      <td>220.0</td>\n",
       "      <td>220.0</td>\n",
       "      <td>86.0</td>\n",
       "      <td>220.0</td>\n",
       "      <td>0</td>\n",
       "    </tr>\n",
       "    <tr>\n",
       "      <td>2</td>\n",
       "      <td>55474</td>\n",
       "      <td>d3dfefae0c7e4d80481d074e262876564a26739fceb406...</td>\n",
       "      <td>20171008</td>\n",
       "      <td>0</td>\n",
       "      <td>1</td>\n",
       "      <td>1</td>\n",
       "      <td>0</td>\n",
       "      <td>100806.0</td>\n",
       "      <td>0</td>\n",
       "      <td>2</td>\n",
       "      <td>...</td>\n",
       "      <td>2.0</td>\n",
       "      <td>1.0</td>\n",
       "      <td>1.0</td>\n",
       "      <td>1.0</td>\n",
       "      <td>1.0</td>\n",
       "      <td>2.0</td>\n",
       "      <td>1.0</td>\n",
       "      <td>2.0</td>\n",
       "      <td>2.0</td>\n",
       "      <td>0</td>\n",
       "    </tr>\n",
       "    <tr>\n",
       "      <td>3</td>\n",
       "      <td>672510</td>\n",
       "      <td>ef6730b52e566f9ed3b5e29d0fd153c39d2aad5a6cabcf...</td>\n",
       "      <td>20171014</td>\n",
       "      <td>1</td>\n",
       "      <td>0</td>\n",
       "      <td>1</td>\n",
       "      <td>0</td>\n",
       "      <td>100806.0</td>\n",
       "      <td>1</td>\n",
       "      <td>5</td>\n",
       "      <td>...</td>\n",
       "      <td>302.0</td>\n",
       "      <td>301.0</td>\n",
       "      <td>184.0</td>\n",
       "      <td>302.0</td>\n",
       "      <td>189.0</td>\n",
       "      <td>189.0</td>\n",
       "      <td>189.0</td>\n",
       "      <td>128.0</td>\n",
       "      <td>188.0</td>\n",
       "      <td>0</td>\n",
       "    </tr>\n",
       "    <tr>\n",
       "      <td>4</td>\n",
       "      <td>185433</td>\n",
       "      <td>04ce161801e0368c4b5dda2d4f6d9852f8d69081364e3e...</td>\n",
       "      <td>20171020</td>\n",
       "      <td>1</td>\n",
       "      <td>0</td>\n",
       "      <td>0</td>\n",
       "      <td>1</td>\n",
       "      <td>100805.0</td>\n",
       "      <td>1</td>\n",
       "      <td>3</td>\n",
       "      <td>...</td>\n",
       "      <td>303.0</td>\n",
       "      <td>312.0</td>\n",
       "      <td>160.0</td>\n",
       "      <td>301.0</td>\n",
       "      <td>187.0</td>\n",
       "      <td>187.0</td>\n",
       "      <td>187.0</td>\n",
       "      <td>100.0</td>\n",
       "      <td>186.0</td>\n",
       "      <td>0</td>\n",
       "    </tr>\n",
       "  </tbody>\n",
       "</table>\n",
       "<p>5 rows × 301 columns</p>\n",
       "</div>"
      ],
      "text/plain": [
       "   Unnamed: 0                                                 id      date  \\\n",
       "0      656857  a08dfc51898f7056df3494c1ec079258aecea8be22c859...  20171030   \n",
       "1      968151  d8a63c6251db058bc58e3ff629abb7acca2d34651cfa5e...  20170910   \n",
       "2       55474  d3dfefae0c7e4d80481d074e262876564a26739fceb406...  20171008   \n",
       "3      672510  ef6730b52e566f9ed3b5e29d0fd153c39d2aad5a6cabcf...  20171014   \n",
       "4      185433  04ce161801e0368c4b5dda2d4f6d9852f8d69081364e3e...  20171020   \n",
       "\n",
       "   f1  f2  f3  f4        f5  f6  f7  ...   f289   f290   f291   f292   f293  \\\n",
       "0   1   1   0   0  100807.0   0   5  ...  340.0  379.0   16.0  302.0  106.0   \n",
       "1   1   1   1   0  100804.0   1   7  ...  302.0  302.0  117.0  302.0  220.0   \n",
       "2   0   1   1   0  100806.0   0   2  ...    2.0    1.0    1.0    1.0    1.0   \n",
       "3   1   0   1   0  100806.0   1   5  ...  302.0  301.0  184.0  302.0  189.0   \n",
       "4   1   0   0   1  100805.0   1   3  ...  303.0  312.0  160.0  301.0  187.0   \n",
       "\n",
       "    f294   f295   f296   f297  label  \n",
       "0  108.0  109.0    5.0  107.0      0  \n",
       "1  220.0  220.0   86.0  220.0      0  \n",
       "2    2.0    1.0    2.0    2.0      0  \n",
       "3  189.0  189.0  128.0  188.0      0  \n",
       "4  187.0  187.0  100.0  186.0      0  \n",
       "\n",
       "[5 rows x 301 columns]"
      ]
     },
     "execution_count": 6,
     "metadata": {},
     "output_type": "execute_result"
    }
   ],
   "source": [
    "data.head(5)\n",
    "\n",
    "### Origin darta has 297 features, one label."
   ]
  },
  {
   "cell_type": "code",
   "execution_count": 11,
   "metadata": {},
   "outputs": [],
   "source": [
    "### Analysis of missing values.\n",
    "\n",
    "col_list = list(data.columns )\n",
    "\n",
    "del_list = []\n",
    "for i in range( data.shape[1] ):\n",
    "    miss_ratio = data[ col_list[i] ].isnull().sum()/data.shape[0] \n",
    "    if miss_ratio>0.5:\n",
    "        del_list.append( col_list[i] )"
   ]
  },
  {
   "cell_type": "code",
   "execution_count": 12,
   "metadata": {},
   "outputs": [
    {
     "data": {
      "text/plain": [
       "['f36',\n",
       " 'f37',\n",
       " 'f38',\n",
       " 'f39',\n",
       " 'f40',\n",
       " 'f41',\n",
       " 'f42',\n",
       " 'f43',\n",
       " 'f44',\n",
       " 'f45',\n",
       " 'f46',\n",
       " 'f47']"
      ]
     },
     "execution_count": 12,
     "metadata": {},
     "output_type": "execute_result"
    }
   ],
   "source": [
    "### Ratio of missing values is over 0.5.\n",
    "del_list"
   ]
  },
  {
   "cell_type": "code",
   "execution_count": 28,
   "metadata": {},
   "outputs": [],
   "source": [
    "### remove the row of missing label.\n",
    "#### remove the row that ratio of nan value is over 0.5\n",
    "#### Nan is filled by mean values.\n",
    "\n",
    "def fill_col_null_with_mean(df):\n",
    "    col_names = list(df.columns)\n",
    "    for col in tqdm(col_names):\n",
    "        if 'f' in col:  # to exclude: id date label \n",
    "            df[col] = df[col].transform(lambda x: x.fillna(x.mean()))\n",
    "    return df\n",
    "\n",
    "def clean_df(df, na_ratio=0.5):\n",
    "    df_eff = df[df.label != -1]\n",
    "    na_thres = int((1-0.5)*df.shape[0])\n",
    "    df_dropna = df_eff.dropna(thresh = na_thres, axis =1)\n",
    "    df_out = fill_col_null_with_mean(df_dropna)\n",
    "\n",
    "    print('remove {} records without label.'.format(df.shape[0] - df_out.shape[0]))\n",
    "    print('remove {} features where na ratio {}.'.format(df.shape[1] - df_out.shape[1], na_ratio))\n",
    "    print(df_out.shape)\n",
    "    df_out = df_out.drop(['Unnamed: 0', 'id', 'date'], axis=1)\n",
    "    print(df_out.shape)\n",
    "    return df_out"
   ]
  },
  {
   "cell_type": "code",
   "execution_count": 29,
   "metadata": {},
   "outputs": [
    {
     "name": "stderr",
     "output_type": "stream",
     "text": [
      "  0%|          | 0/289 [00:00<?, ?it/s]D:\\Anaconda3\\lib\\site-packages\\ipykernel_launcher.py:9: SettingWithCopyWarning: \n",
      "A value is trying to be set on a copy of a slice from a DataFrame.\n",
      "Try using .loc[row_indexer,col_indexer] = value instead\n",
      "\n",
      "See the caveats in the documentation: http://pandas.pydata.org/pandas-docs/stable/user_guide/indexing.html#returning-a-view-versus-a-copy\n",
      "  if __name__ == '__main__':\n",
      "100%|██████████| 289/289 [00:01<00:00, 194.96it/s]\n"
     ]
    },
    {
     "name": "stdout",
     "output_type": "stream",
     "text": [
      "remove 463 records without label.\n",
      "remove 12 features where na ratio 0.5.\n",
      "(99011, 289)\n",
      "(99011, 286)\n"
     ]
    }
   ],
   "source": [
    "data_clean = clean_df(data)"
   ]
  },
  {
   "cell_type": "code",
   "execution_count": 30,
   "metadata": {},
   "outputs": [
    {
     "data": {
      "text/html": [
       "<div>\n",
       "<style scoped>\n",
       "    .dataframe tbody tr th:only-of-type {\n",
       "        vertical-align: middle;\n",
       "    }\n",
       "\n",
       "    .dataframe tbody tr th {\n",
       "        vertical-align: top;\n",
       "    }\n",
       "\n",
       "    .dataframe thead th {\n",
       "        text-align: right;\n",
       "    }\n",
       "</style>\n",
       "<table border=\"1\" class=\"dataframe\">\n",
       "  <thead>\n",
       "    <tr style=\"text-align: right;\">\n",
       "      <th></th>\n",
       "      <th>f1</th>\n",
       "      <th>f2</th>\n",
       "      <th>f3</th>\n",
       "      <th>f4</th>\n",
       "      <th>f5</th>\n",
       "      <th>f6</th>\n",
       "      <th>f7</th>\n",
       "      <th>f8</th>\n",
       "      <th>f9</th>\n",
       "      <th>f10</th>\n",
       "      <th>...</th>\n",
       "      <th>f289</th>\n",
       "      <th>f290</th>\n",
       "      <th>f291</th>\n",
       "      <th>f292</th>\n",
       "      <th>f293</th>\n",
       "      <th>f294</th>\n",
       "      <th>f295</th>\n",
       "      <th>f296</th>\n",
       "      <th>f297</th>\n",
       "      <th>label</th>\n",
       "    </tr>\n",
       "  </thead>\n",
       "  <tbody>\n",
       "    <tr>\n",
       "      <td>0</td>\n",
       "      <td>1</td>\n",
       "      <td>1</td>\n",
       "      <td>0</td>\n",
       "      <td>0</td>\n",
       "      <td>100807.0</td>\n",
       "      <td>0</td>\n",
       "      <td>5</td>\n",
       "      <td>1</td>\n",
       "      <td>1</td>\n",
       "      <td>1</td>\n",
       "      <td>...</td>\n",
       "      <td>340.0</td>\n",
       "      <td>379.0</td>\n",
       "      <td>16.0</td>\n",
       "      <td>302.0</td>\n",
       "      <td>106.0</td>\n",
       "      <td>108.0</td>\n",
       "      <td>109.0</td>\n",
       "      <td>5.0</td>\n",
       "      <td>107.0</td>\n",
       "      <td>0</td>\n",
       "    </tr>\n",
       "    <tr>\n",
       "      <td>1</td>\n",
       "      <td>1</td>\n",
       "      <td>1</td>\n",
       "      <td>1</td>\n",
       "      <td>0</td>\n",
       "      <td>100804.0</td>\n",
       "      <td>1</td>\n",
       "      <td>7</td>\n",
       "      <td>1</td>\n",
       "      <td>1</td>\n",
       "      <td>0</td>\n",
       "      <td>...</td>\n",
       "      <td>302.0</td>\n",
       "      <td>302.0</td>\n",
       "      <td>117.0</td>\n",
       "      <td>302.0</td>\n",
       "      <td>220.0</td>\n",
       "      <td>220.0</td>\n",
       "      <td>220.0</td>\n",
       "      <td>86.0</td>\n",
       "      <td>220.0</td>\n",
       "      <td>0</td>\n",
       "    </tr>\n",
       "    <tr>\n",
       "      <td>2</td>\n",
       "      <td>0</td>\n",
       "      <td>1</td>\n",
       "      <td>1</td>\n",
       "      <td>0</td>\n",
       "      <td>100806.0</td>\n",
       "      <td>0</td>\n",
       "      <td>2</td>\n",
       "      <td>2</td>\n",
       "      <td>0</td>\n",
       "      <td>0</td>\n",
       "      <td>...</td>\n",
       "      <td>2.0</td>\n",
       "      <td>1.0</td>\n",
       "      <td>1.0</td>\n",
       "      <td>1.0</td>\n",
       "      <td>1.0</td>\n",
       "      <td>2.0</td>\n",
       "      <td>1.0</td>\n",
       "      <td>2.0</td>\n",
       "      <td>2.0</td>\n",
       "      <td>0</td>\n",
       "    </tr>\n",
       "    <tr>\n",
       "      <td>3</td>\n",
       "      <td>1</td>\n",
       "      <td>0</td>\n",
       "      <td>1</td>\n",
       "      <td>0</td>\n",
       "      <td>100806.0</td>\n",
       "      <td>1</td>\n",
       "      <td>5</td>\n",
       "      <td>2</td>\n",
       "      <td>1</td>\n",
       "      <td>2</td>\n",
       "      <td>...</td>\n",
       "      <td>302.0</td>\n",
       "      <td>301.0</td>\n",
       "      <td>184.0</td>\n",
       "      <td>302.0</td>\n",
       "      <td>189.0</td>\n",
       "      <td>189.0</td>\n",
       "      <td>189.0</td>\n",
       "      <td>128.0</td>\n",
       "      <td>188.0</td>\n",
       "      <td>0</td>\n",
       "    </tr>\n",
       "    <tr>\n",
       "      <td>4</td>\n",
       "      <td>1</td>\n",
       "      <td>0</td>\n",
       "      <td>0</td>\n",
       "      <td>1</td>\n",
       "      <td>100805.0</td>\n",
       "      <td>1</td>\n",
       "      <td>3</td>\n",
       "      <td>2</td>\n",
       "      <td>0</td>\n",
       "      <td>2</td>\n",
       "      <td>...</td>\n",
       "      <td>303.0</td>\n",
       "      <td>312.0</td>\n",
       "      <td>160.0</td>\n",
       "      <td>301.0</td>\n",
       "      <td>187.0</td>\n",
       "      <td>187.0</td>\n",
       "      <td>187.0</td>\n",
       "      <td>100.0</td>\n",
       "      <td>186.0</td>\n",
       "      <td>0</td>\n",
       "    </tr>\n",
       "  </tbody>\n",
       "</table>\n",
       "<p>5 rows × 286 columns</p>\n",
       "</div>"
      ],
      "text/plain": [
       "   f1  f2  f3  f4        f5  f6  f7  f8  f9  f10  ...   f289   f290   f291  \\\n",
       "0   1   1   0   0  100807.0   0   5   1   1    1  ...  340.0  379.0   16.0   \n",
       "1   1   1   1   0  100804.0   1   7   1   1    0  ...  302.0  302.0  117.0   \n",
       "2   0   1   1   0  100806.0   0   2   2   0    0  ...    2.0    1.0    1.0   \n",
       "3   1   0   1   0  100806.0   1   5   2   1    2  ...  302.0  301.0  184.0   \n",
       "4   1   0   0   1  100805.0   1   3   2   0    2  ...  303.0  312.0  160.0   \n",
       "\n",
       "    f292   f293   f294   f295   f296   f297  label  \n",
       "0  302.0  106.0  108.0  109.0    5.0  107.0      0  \n",
       "1  302.0  220.0  220.0  220.0   86.0  220.0      0  \n",
       "2    1.0    1.0    2.0    1.0    2.0    2.0      0  \n",
       "3  302.0  189.0  189.0  189.0  128.0  188.0      0  \n",
       "4  301.0  187.0  187.0  187.0  100.0  186.0      0  \n",
       "\n",
       "[5 rows x 286 columns]"
      ]
     },
     "execution_count": 30,
     "metadata": {},
     "output_type": "execute_result"
    }
   ],
   "source": [
    "data_clean.head(5)"
   ]
  },
  {
   "cell_type": "code",
   "execution_count": 36,
   "metadata": {},
   "outputs": [
    {
     "data": {
      "text/plain": [
       "(39605, 285)"
      ]
     },
     "execution_count": 36,
     "metadata": {},
     "output_type": "execute_result"
    }
   ],
   "source": [
    "### split train and test dataset.\n",
    "\n",
    "y = data_clean['label']\n",
    "x = data_clean.drop( ['label'], axis=1 )\n",
    "train_x, test_x, train_y, test_y = train_test_split(x, y, test_size=0.4 )\n",
    "test_x.shape"
   ]
  },
  {
   "cell_type": "code",
   "execution_count": 42,
   "metadata": {},
   "outputs": [],
   "source": [
    "#### Evaluate the performance of model.\n",
    "\n",
    "def get_tpr(X_data, y_gt, model):\n",
    "\n",
    "    # score = 0.4 * TPR1 + 0.3 * TPR2 + 0.3 * TPR3\n",
    "    \n",
    "    probas = model.predict_proba(X_data)\n",
    "    fpr, tpr, thresholds = roc_curve(y_gt, probas[:, 1],pos_label=1)\n",
    "\n",
    "    fpr_dic = {'r1':0.001, 'r2':0.005, 'r3':0.01}\n",
    "    tpr_dic = {}\n",
    "    \n",
    "    for k, fpr_thres in fpr_dic.items():\n",
    "        index = np.argmin(abs(fpr - fpr_thres))\n",
    "        tpr_dic[k] = tpr[index]\n",
    "\n",
    "    final_score = 0.4*tpr_dic['r1'] + 0.3*tpr_dic['r2'] + 0.3*tpr_dic['r3']\n",
    "\n",
    "    print('tpr at each level: ')\n",
    "    print(tpr_dic)\n",
    "    print('final score \\t: {} '.format(final_score))\n",
    "    \n",
    "    ### plot roc curve.\n",
    "\n",
    "    plt.title('ROC Curve.')\n",
    "    plt.plot(fpr, tpr, 'b', label='Score = %0.2f'% final_score)\n",
    "    plt.legend(loc='lower right')\n",
    "    plt.plot([0,1],[0,1],'r--')\n",
    "    plt.xlim([-0.1,1.2])\n",
    "    plt.ylim([-0.1,1.2])\n",
    "    plt.ylabel('tpr')\n",
    "    plt.xlabel('fpr')\n",
    "    plt.show()    \n",
    "    \n",
    "    return tpr_dic, final_score"
   ]
  },
  {
   "cell_type": "code",
   "execution_count": 43,
   "metadata": {},
   "outputs": [
    {
     "name": "stdout",
     "output_type": "stream",
     "text": [
      "tpr at each level: \n",
      "{'r1': 0.0, 'r2': 0.4176470588235294, 'r3': 0.4176470588235294}\n",
      "final score \t: 0.25058823529411767 \n"
     ]
    },
    {
     "data": {
      "image/png": "[encoded data removed]",
      "text/plain": [
       "<Figure size 432x288 with 1 Axes>"
      ]
     },
     "metadata": {
      "needs_background": "light"
     },
     "output_type": "display_data"
    },
    {
     "data": {
      "text/plain": [
       "({'r1': 0.0, 'r2': 0.4176470588235294, 'r3': 0.4176470588235294},\n",
       " 0.25058823529411767)"
      ]
     },
     "execution_count": 43,
     "metadata": {},
     "output_type": "execute_result"
    }
   ],
   "source": [
    "### Train model using Decision Tree.\n",
    "\n",
    "#### The score of Decision Tree is: 0.29\n",
    "\n",
    "dt = DecisionTreeClassifier()\n",
    "dt.fit( train_x, train_y )\n",
    "get_tpr(test_x, test_y, dt)"
   ]
  },
  {
   "cell_type": "code",
   "execution_count": 44,
   "metadata": {},
   "outputs": [
    {
     "name": "stdout",
     "output_type": "stream",
     "text": [
      "tpr at each level: \n",
      "{'r1': 0.3254901960784314, 'r2': 0.6039215686274509, 'r3': 0.7254901960784313}\n",
      "final score \t: 0.5290196078431373 \n"
     ]
    },
    {
     "data": {
      "image/png": "[encoded data removed]",
      "text/plain": [
       "<Figure size 432x288 with 1 Axes>"
      ]
     },
     "metadata": {
      "needs_background": "light"
     },
     "output_type": "display_data"
    },
    {
     "data": {
      "text/plain": [
       "({'r1': 0.3254901960784314,\n",
       "  'r2': 0.6039215686274509,\n",
       "  'r3': 0.7254901960784313},\n",
       " 0.5290196078431373)"
      ]
     },
     "execution_count": 44,
     "metadata": {},
     "output_type": "execute_result"
    }
   ],
   "source": [
    "### Train model using Random Forest.\n",
    "\n",
    "#### The score of Random Forest is: 0.53\n",
    "\n",
    "rf = RandomForestClassifier()\n",
    "rf.fit( train_x, train_y )\n",
    "get_tpr(test_x, test_y, rf)"
   ]
  },
  {
   "cell_type": "code",
   "execution_count": 46,
   "metadata": {},
   "outputs": [
    {
     "name": "stdout",
     "output_type": "stream",
     "text": [
      "tpr at each level: \n",
      "{'r1': 0.1607843137254902, 'r2': 0.43529411764705883, 'r3': 0.5686274509803921}\n",
      "final score \t: 0.36549019607843136 \n"
     ]
    },
    {
     "data": {
      "image/png": "[encoded data removed]",
      "text/plain": [
       "<Figure size 432x288 with 1 Axes>"
      ]
     },
     "metadata": {
      "needs_background": "light"
     },
     "output_type": "display_data"
    },
    {
     "data": {
      "text/plain": [
       "({'r1': 0.1607843137254902,\n",
       "  'r2': 0.43529411764705883,\n",
       "  'r3': 0.5686274509803921},\n",
       " 0.36549019607843136)"
      ]
     },
     "execution_count": 46,
     "metadata": {},
     "output_type": "execute_result"
    }
   ],
   "source": [
    "### Train model using AdaBoost\n",
    "\n",
    "#### The score of AdaBoost is: 0.366\n",
    "\n",
    "ada = AdaBoostClassifier()\n",
    "ada.fit( train_x, train_y )\n",
    "get_tpr(test_x, test_y, ada)"
   ]
  },
  {
   "cell_type": "code",
   "execution_count": 47,
   "metadata": {},
   "outputs": [
    {
     "name": "stdout",
     "output_type": "stream",
     "text": [
      "tpr at each level: \n",
      "{'r1': 0.20392156862745098, 'r2': 0.4803921568627451, 'r3': 0.6254901960784314}\n",
      "final score \t: 0.41333333333333333 \n"
     ]
    },
    {
     "data": {
      "image/png": "[encoded data removed]",
      "text/plain": [
       "<Figure size 432x288 with 1 Axes>"
      ]
     },
     "metadata": {
      "needs_background": "light"
     },
     "output_type": "display_data"
    },
    {
     "data": {
      "text/plain": [
       "({'r1': 0.20392156862745098,\n",
       "  'r2': 0.4803921568627451,\n",
       "  'r3': 0.6254901960784314},\n",
       " 0.41333333333333333)"
      ]
     },
     "execution_count": 47,
     "metadata": {},
     "output_type": "execute_result"
    }
   ],
   "source": [
    "### Train model using GBDT.\n",
    "\n",
    "#### The score of GBDT is: 0.41\n",
    "\n",
    "gbdt = GradientBoostingClassifier()\n",
    "gbdt.fit( train_x, train_y )\n",
    "get_tpr(test_x, test_y, gbdt)"
   ]
  },
  {
   "cell_type": "code",
   "execution_count": 71,
   "metadata": {},
   "outputs": [],
   "source": [
    "#### GBDT + MLP.\n",
    "from sklearn.feature_selection import SelectFromModel\n",
    "gbdt = GradientBoostingClassifier()\n",
    "gbdt.fit(train_x, train_y)\n",
    "model = SelectFromModel(gbdt, prefit=True)\n",
    "select_train_x = model.transform( train_x )\n",
    "select_test_x = model.transform(test_x)"
   ]
  },
  {
   "cell_type": "code",
   "execution_count": 73,
   "metadata": {},
   "outputs": [
    {
     "name": "stdout",
     "output_type": "stream",
     "text": [
      "tpr at each level: \n",
      "{'r1': 0.14313725490196078, 'r2': 0.3176470588235294, 'r3': 0.4294117647058823}\n",
      "final score \t: 0.28137254901960784 \n"
     ]
    },
    {
     "data": {
      "image/png": "[encoded data removed]",
      "text/plain": [
       "<Figure size 432x288 with 1 Axes>"
      ]
     },
     "metadata": {
      "needs_background": "light"
     },
     "output_type": "display_data"
    },
    {
     "data": {
      "text/plain": [
       "({'r1': 0.14313725490196078,\n",
       "  'r2': 0.3176470588235294,\n",
       "  'r3': 0.4294117647058823},\n",
       " 0.28137254901960784)"
      ]
     },
     "execution_count": 73,
     "metadata": {},
     "output_type": "execute_result"
    }
   ],
   "source": [
    "### Train model using MLP.\n",
    "\n",
    "mlp = MLPClassifier()\n",
    "mlp.fit( select_train_x, train_y )\n",
    "get_tpr(select_test_x, test_y, mlp)"
   ]
  },
  {
   "cell_type": "markdown",
   "metadata": {},
   "source": [
    "- Using GBDT, performance of MLP is higher 0.13 than that only using MLP."
   ]
  },
  {
   "cell_type": "code",
   "execution_count": 93,
   "metadata": {},
   "outputs": [],
   "source": [
    "#### FBDT + dnn.\n",
    "from keras import metrics\n",
    "metrics."
   ]
  },
  {
   "cell_type": "code",
   "execution_count": 79,
   "metadata": {
    "scrolled": true
   },
   "outputs": [
    {
     "name": "stdout",
     "output_type": "stream",
     "text": [
      "\n",
      "Starting training \n",
      "Epoch 1/1\n"
     ]
    },
    {
     "name": "stdout",
     "output_type": "stream",
     "text": [
      " 4859/59406 [=>............................] - ETA: 13:17:23 - loss: 15.9424 - acc: 0.0000e+ - ETA: 33:54 - loss: 15.3047 - acc: 0.0400       - ETA: 18:43 - loss: 15.2781 - acc: 0.041 - ETA: 13:21 - loss: 15.4933 - acc: 0.028 - ETA: 10:18 - loss: 15.6137 - acc: 0.020 - ETA: 8:31 - loss: 15.6832 - acc: 0.016 - ETA: 7:22 - loss: 15.7284 - acc: 0.01 - ETA: 6:34 - loss: 15.5780 - acc: 0.02 - ETA: 5:59 - loss: 15.5438 - acc: 0.02 - ETA: 5:33 - loss: 15.5881 - acc: 0.02 - ETA: 5:14 - loss: 15.5567 - acc: 0.02 - ETA: 4:56 - loss: 15.5361 - acc: 0.02 - ETA: 4:40 - loss: 15.5182 - acc: 0.02 - ETA: 4:24 - loss: 15.5580 - acc: 0.02 - ETA: 4:16 - loss: 15.5820 - acc: 0.02 - ETA: 4:08 - loss: 15.6050 - acc: 0.02 - ETA: 4:00 - loss: 15.5854 - acc: 0.02 - ETA: 3:54 - loss: 15.5311 - acc: 0.02 - ETA: 3:48 - loss: 15.5532 - acc: 0.02 - ETA: 3:42 - loss: 15.5738 - acc: 0.02 - ETA: 3:38 - loss: 15.5909 - acc: 0.02 - ETA: 3:33 - loss: 15.6078 - acc: 0.02 - ETA: 3:29 - loss: 15.6220 - acc: 0.02 - ETA: 3:27 - loss: 15.6344 - acc: 0.01 - ETA: 3:25 - loss: 15.6450 - acc: 0.01 - ETA: 3:22 - loss: 15.6562 - acc: 0.01 - ETA: 3:19 - loss: 15.6420 - acc: 0.01 - ETA: 3:16 - loss: 15.6539 - acc: 0.01 - ETA: 3:13 - loss: 15.6411 - acc: 0.01 - ETA: 3:10 - loss: 15.6530 - acc: 0.01 - ETA: 3:07 - loss: 15.6411 - acc: 0.01 - ETA: 3:05 - loss: 15.6514 - acc: 0.01 - ETA: 3:03 - loss: 15.6603 - acc: 0.01 - ETA: 3:00 - loss: 15.6704 - acc: 0.01 - ETA: 2:58 - loss: 15.6785 - acc: 0.01 - ETA: 2:56 - loss: 15.6861 - acc: 0.01 - ETA: 2:55 - loss: 15.6928 - acc: 0.01 - ETA: 2:54 - loss: 15.6991 - acc: 0.01 - ETA: 2:52 - loss: 15.7059 - acc: 0.01 - ETA: 2:50 - loss: 15.6801 - acc: 0.01 - ETA: 2:49 - loss: 15.6862 - acc: 0.01 - ETA: 2:48 - loss: 15.6760 - acc: 0.01 - ETA: 2:47 - loss: 15.6819 - acc: 0.01 - ETA: 2:46 - loss: 15.6730 - acc: 0.01 - ETA: 2:46 - loss: 15.6785 - acc: 0.01 - ETA: 2:44 - loss: 15.6700 - acc: 0.01 - ETA: 2:43 - loss: 15.6765 - acc: 0.01 - ETA: 2:42 - loss: 15.6816 - acc: 0.01 - ETA: 2:42 - loss: 15.6863 - acc: 0.01 - ETA: 2:41 - loss: 15.6783 - acc: 0.01 - ETA: 2:40 - loss: 15.6833 - acc: 0.01 - ETA: 2:40 - loss: 15.6755 - acc: 0.01 - ETA: 2:39 - loss: 15.6677 - acc: 0.01 - ETA: 2:38 - loss: 15.6732 - acc: 0.01 - ETA: 2:37 - loss: 15.6783 - acc: 0.01 - ETA: 2:37 - loss: 15.6831 - acc: 0.01 - ETA: 2:36 - loss: 15.6873 - acc: 0.01 - ETA: 2:35 - loss: 15.6929 - acc: 0.01 - ETA: 2:35 - loss: 15.6749 - acc: 0.01 - ETA: 2:34 - loss: 15.6799 - acc: 0.01 - ETA: 2:33 - loss: 15.6741 - acc: 0.01 - ETA: 2:32 - loss: 15.6683 - acc: 0.01 - ETA: 2:31 - loss: 15.6726 - acc: 0.01 - ETA: 2:31 - loss: 15.6765 - acc: 0.01 - ETA: 2:30 - loss: 15.6817 - acc: 0.01 - ETA: 2:30 - loss: 15.6856 - acc: 0.01 - ETA: 2:29 - loss: 15.6891 - acc: 0.01 - ETA: 2:29 - loss: 15.6829 - acc: 0.01 - ETA: 2:29 - loss: 15.6864 - acc: 0.01 - ETA: 2:28 - loss: 15.6903 - acc: 0.01 - ETA: 2:28 - loss: 15.6756 - acc: 0.01 - ETA: 2:27 - loss: 15.6702 - acc: 0.01 - ETA: 2:27 - loss: 15.6739 - acc: 0.01 - ETA: 2:27 - loss: 15.6772 - acc: 0.01 - ETA: 2:26 - loss: 15.6805 - acc: 0.01 - ETA: 2:26 - loss: 15.6835 - acc: 0.01 - ETA: 2:26 - loss: 15.6868 - acc: 0.01 - ETA: 2:25 - loss: 15.6734 - acc: 0.01 - ETA: 2:25 - loss: 15.6683 - acc: 0.01 - ETA: 2:25 - loss: 15.6717 - acc: 0.01 - ETA: 2:24 - loss: 15.6670 - acc: 0.01 - ETA: 2:24 - loss: 15.6702 - acc: 0.01 - ETA: 2:24 - loss: 15.6655 - acc: 0.01 - ETA: 2:23 - loss: 15.6689 - acc: 0.01 - ETA: 2:23 - loss: 15.6720 - acc: 0.01 - ETA: 2:23 - loss: 15.6673 - acc: 0.01 - ETA: 2:23 - loss: 15.6702 - acc: 0.01 - ETA: 2:23 - loss: 15.6730 - acc: 0.01 - ETA: 2:22 - loss: 15.6760 - acc: 0.01 - ETA: 2:22 - loss: 15.6790 - acc: 0.01 - ETA: 2:22 - loss: 15.6821 - acc: 0.01 - ETA: 2:21 - loss: 15.6853 - acc: 0.01 - ETA: 2:21 - loss: 15.6740 - acc: 0.01 - ETA: 2:20 - loss: 15.6770 - acc: 0.01 - ETA: 2:20 - loss: 15.6732 - acc: 0.01 - ETA: 2:19 - loss: 15.6764 - acc: 0.01 - ETA: 2:19 - loss: 15.6791 - acc: 0.01 - ETA: 2:19 - loss: 15.6819 - acc: 0.01 - ETA: 2:19 - loss: 15.6711 - acc: 0.01 - ETA: 2:19 - loss: 15.6738 - acc: 0.01 - ETA: 2:18 - loss: 15.6764 - acc: 0.01 - ETA: 2:18 - loss: 15.6792 - acc: 0.01 - ETA: 2:18 - loss: 15.6818 - acc: 0.01 - ETA: 2:18 - loss: 15.6716 - acc: 0.01 - ETA: 2:17 - loss: 15.6741 - acc: 0.01 - ETA: 2:17 - loss: 15.6700 - acc: 0.01 - ETA: 2:17 - loss: 15.6662 - acc: 0.01 - ETA: 2:17 - loss: 15.6625 - acc: 0.01 - ETA: 2:17 - loss: 15.6651 - acc: 0.01 - ETA: 2:17 - loss: 15.6617 - acc: 0.01 - ETA: 2:17 - loss: 15.6523 - acc: 0.01 - ETA: 2:16 - loss: 15.6490 - acc: 0.01 - ETA: 2:16 - loss: 15.6515 - acc: 0.01 - ETA: 2:16 - loss: 15.6540 - acc: 0.01 - ETA: 2:16 - loss: 15.6564 - acc: 0.01 - ETA: 2:16 - loss: 15.6590 - acc: 0.01 - ETA: 2:15 - loss: 15.6614 - acc: 0.01 - ETA: 2:15 - loss: 15.6524 - acc: 0.01 - ETA: 2:15 - loss: 15.6547 - acc: 0.01 - ETA: 2:15 - loss: 15.6570 - acc: 0.01 - ETA: 2:15 - loss: 15.6537 - acc: 0.01 - ETA: 2:15 - loss: 15.6506 - acc: 0.01 - ETA: 2:15 - loss: 15.6475 - acc: 0.01 - ETA: 2:15 - loss: 15.6446 - acc: 0.01 - ETA: 2:14 - loss: 15.6082 - acc: 0.02 - ETA: 2:14 - loss: 15.4999 - acc: 0.02 - ETA: 2:15 - loss: 15.4133 - acc: 0.03 - ETA: 2:14 - loss: 15.2827 - acc: 0.04 - ETA: 2:14 - loss: 15.1495 - acc: 0.04 - ETA: 2:14 - loss: 15.0185 - acc: 0.05 - ETA: 2:13 - loss: 14.8850 - acc: 0.06 - ETA: 2:13 - loss: 14.7539 - acc: 0.07 - ETA: 2:13 - loss: 14.6347 - acc: 0.08 - ETA: 2:13 - loss: 14.5350 - acc: 0.08 - ETA: 2:13 - loss: 14.4366 - acc: 0.09 - ETA: 2:13 - loss: 14.3439 - acc: 0.10 - ETA: 2:12 - loss: 14.2481 - acc: 0.10 - ETA: 2:12 - loss: 14.1364 - acc: 0.11 - ETA: 2:12 - loss: 14.0391 - acc: 0.11 - ETA: 2:12 - loss: 13.9521 - acc: 0.12 - ETA: 2:12 - loss: 13.8574 - acc: 0.13 - ETA: 2:12 - loss: 13.7565 - acc: 0.13 - ETA: 2:12 - loss: 13.6804 - acc: 0.14 - ETA: 2:12 - loss: 13.5932 - acc: 0.14 - ETA: 2:12 - loss: 13.5072 - acc: 0.15 - ETA: 2:12 - loss: 13.4184 - acc: 0.15 - ETA: 2:12 - loss: 13.3384 - acc: 0.16 - ETA: 2:11 - loss: 13.2638 - acc: 0.16 - ETA: 2:11 - loss: 13.1782 - acc: 0.17 - ETA: 2:11 - loss: 13.0974 - acc: 0.17 - ETA: 2:11 - loss: 13.0067 - acc: 0.18 - ETA: 2:11 - loss: 12.9173 - acc: 0.18 - ETA: 2:11 - loss: 12.8396 - acc: 0.19 - ETA: 2:11 - loss: 12.7559 - acc: 0.19 - ETA: 2:11 - loss: 12.6664 - acc: 0.20 - ETA: 2:10 - loss: 12.5783 - acc: 0.21 - ETA: 2:10 - loss: 12.4979 - acc: 0.21 - ETA: 2:10 - loss: 12.4219 - acc: 0.22 - ETA: 2:10 - loss: 12.3306 - acc: 0.22 - ETA: 2:10 - loss: 12.2543 - acc: 0.23 - ETA: 2:10 - loss: 12.1749 - acc: 0.23 - ETA: 2:09 - loss: 12.0966 - acc: 0.24 - ETA: 2:09 - loss: 12.0264 - acc: 0.24 - ETA: 2:09 - loss: 11.9409 - acc: 0.25 - ETA: 2:09 - loss: 11.8666 - acc: 0.25 - ETA: 2:09 - loss: 11.7892 - acc: 0.26 - ETA: 2:08 - loss: 11.7227 - acc: 0.26 - ETA: 2:08 - loss: 11.6559 - acc: 0.26 - ETA: 2:08 - loss: 11.5898 - acc: 0.27 - ETA: 2:08 - loss: 11.5217 - acc: 0.27 - ETA: 2:08 - loss: 11.4543 - acc: 0.28 - ETA: 2:08 - loss: 11.3960 - acc: 0.28 - ETA: 2:08 - loss: 11.3356 - acc: 0.28 - ETA: 2:08 - loss: 11.2758 - acc: 0.29 - ETA: 2:08 - loss: 11.2178 - acc: 0.29 - ETA: 2:08 - loss: 11.1567 - acc: 0.30 - ETA: 2:08 - loss: 11.0909 - acc: 0.30 - ETA: 2:08 - loss: 11.0337 - acc: 0.30 - ETA: 2:08 - loss: 10.9796 - acc: 0.31 - ETA: 2:08 - loss: 10.9235 - acc: 0.31 - ETA: 2:08 - loss: 10.8680 - acc: 0.31 - ETA: 2:08 - loss: 10.8155 - acc: 0.32 - ETA: 2:08 - loss: 10.7660 - acc: 0.32 - ETA: 2:08 - loss: 10.7146 - acc: 0.32 - ETA: 2:08 - loss: 10.6745 - acc: 0.33 - ETA: 2:08 - loss: 10.6275 - acc: 0.33 - ETA: 2:07 - loss: 10.5644 - acc: 0.33 - ETA: 2:07 - loss: 10.5031 - acc: 0.34 - ETA: 2:07 - loss: 10.4195 - acc: 0.34 - ETA: 2:07 - loss: 10.3658 - acc: 0.34 - ETA: 2:06 - loss: 10.3046 - acc: 0.35 - ETA: 2:06 - loss: 10.2486 - acc: 0.35 - ETA: 2:06 - loss: 10.1909 - acc: 0.36 - ETA: 2:06 - loss: 10.1361 - acc: 0.36 - ETA: 2:06 - loss: 10.0754 - acc: 0.36 - ETA: 2:06 - loss: 10.0244 - acc: 0.37 - ETA: 2:06 - loss: 9.9791 - acc: 0.3741 - ETA: 2:06 - loss: 9.9349 - acc: 0.376 - ETA: 2:06 - loss: 9.8912 - acc: 0.379 - ETA: 2:05 - loss: 9.8457 - acc: 0.382 - ETA: 2:05 - loss: 9.8028 - acc: 0.385 - ETA: 2:05 - loss: 9.7541 - acc: 0.388 - ETA: 2:05 - loss: 9.7059 - acc: 0.391 9799/59406 [===>..........................] - ETA: 2:05 - loss: 9.6615 - acc: 0.394 - ETA: 2:05 - loss: 9.6195 - acc: 0.396 - ETA: 2:05 - loss: 9.5779 - acc: 0.399 - ETA: 2:05 - loss: 9.5353 - acc: 0.401 - ETA: 2:05 - loss: 9.4893 - acc: 0.404 - ETA: 2:05 - loss: 9.4438 - acc: 0.407 - ETA: 2:05 - loss: 9.3988 - acc: 0.410 - ETA: 2:05 - loss: 9.3522 - acc: 0.413 - ETA: 2:04 - loss: 9.3098 - acc: 0.416 - ETA: 2:04 - loss: 9.2660 - acc: 0.418 - ETA: 2:04 - loss: 9.2243 - acc: 0.421 - ETA: 2:04 - loss: 9.1795 - acc: 0.424 - ETA: 2:04 - loss: 9.1382 - acc: 0.426 - ETA: 2:04 - loss: 9.0907 - acc: 0.429 - ETA: 2:04 - loss: 9.0454 - acc: 0.432 - ETA: 2:04 - loss: 9.0020 - acc: 0.435 - ETA: 2:03 - loss: 8.9593 - acc: 0.438 - ETA: 2:03 - loss: 8.9120 - acc: 0.441 - ETA: 2:03 - loss: 8.8668 - acc: 0.443 - ETA: 2:03 - loss: 8.8317 - acc: 0.446 - ETA: 2:03 - loss: 8.7920 - acc: 0.448 - ETA: 2:03 - loss: 8.7513 - acc: 0.451 - ETA: 2:03 - loss: 8.7078 - acc: 0.453 - ETA: 2:02 - loss: 8.6663 - acc: 0.456 - ETA: 2:02 - loss: 8.6220 - acc: 0.459 - ETA: 2:02 - loss: 8.5876 - acc: 0.461 - ETA: 2:02 - loss: 8.5503 - acc: 0.463 - ETA: 2:02 - loss: 8.5149 - acc: 0.466 - ETA: 2:02 - loss: 8.4813 - acc: 0.468 - ETA: 2:02 - loss: 8.4432 - acc: 0.470 - ETA: 2:02 - loss: 8.4087 - acc: 0.472 - ETA: 2:02 - loss: 8.3745 - acc: 0.474 - ETA: 2:02 - loss: 8.3377 - acc: 0.477 - ETA: 2:02 - loss: 8.3054 - acc: 0.479 - ETA: 2:02 - loss: 8.2706 - acc: 0.481 - ETA: 2:01 - loss: 8.2389 - acc: 0.483 - ETA: 2:01 - loss: 8.2117 - acc: 0.485 - ETA: 2:01 - loss: 8.1804 - acc: 0.486 - ETA: 2:01 - loss: 8.1452 - acc: 0.489 - ETA: 2:01 - loss: 8.1131 - acc: 0.491 - ETA: 2:01 - loss: 8.0812 - acc: 0.493 - ETA: 2:01 - loss: 8.0455 - acc: 0.495 - ETA: 2:01 - loss: 8.0128 - acc: 0.497 - ETA: 2:01 - loss: 7.9803 - acc: 0.499 - ETA: 2:01 - loss: 7.9455 - acc: 0.501 - ETA: 2:01 - loss: 7.9096 - acc: 0.503 - ETA: 2:01 - loss: 7.8780 - acc: 0.505 - ETA: 2:00 - loss: 7.8480 - acc: 0.507 - ETA: 2:00 - loss: 7.8169 - acc: 0.509 - ETA: 2:00 - loss: 7.7835 - acc: 0.511 - ETA: 2:00 - loss: 7.7542 - acc: 0.513 - ETA: 2:00 - loss: 7.7201 - acc: 0.515 - ETA: 2:00 - loss: 7.6875 - acc: 0.517 - ETA: 2:00 - loss: 7.6603 - acc: 0.519 - ETA: 2:00 - loss: 7.6308 - acc: 0.521 - ETA: 1:59 - loss: 7.5977 - acc: 0.523 - ETA: 1:59 - loss: 7.5686 - acc: 0.525 - ETA: 1:59 - loss: 7.5397 - acc: 0.527 - ETA: 1:59 - loss: 7.5122 - acc: 0.528 - ETA: 1:59 - loss: 7.4825 - acc: 0.530 - ETA: 1:59 - loss: 7.4578 - acc: 0.532 - ETA: 1:59 - loss: 7.4322 - acc: 0.533 - ETA: 1:59 - loss: 7.4067 - acc: 0.535 - ETA: 1:59 - loss: 7.3790 - acc: 0.537 - ETA: 1:59 - loss: 7.3529 - acc: 0.538 - ETA: 1:59 - loss: 7.3234 - acc: 0.540 - ETA: 1:59 - loss: 7.2997 - acc: 0.542 - ETA: 1:59 - loss: 7.2739 - acc: 0.543 - ETA: 1:59 - loss: 7.2461 - acc: 0.545 - ETA: 1:59 - loss: 7.2221 - acc: 0.547 - ETA: 1:58 - loss: 7.1969 - acc: 0.548 - ETA: 1:58 - loss: 7.1718 - acc: 0.550 - ETA: 1:58 - loss: 7.1529 - acc: 0.551 - ETA: 1:58 - loss: 7.1271 - acc: 0.553 - ETA: 1:58 - loss: 7.1047 - acc: 0.554 - ETA: 1:58 - loss: 7.0761 - acc: 0.556 - ETA: 1:58 - loss: 7.0543 - acc: 0.557 - ETA: 1:58 - loss: 7.0261 - acc: 0.559 - ETA: 1:58 - loss: 6.9992 - acc: 0.561 - ETA: 1:58 - loss: 6.9714 - acc: 0.562 - ETA: 1:58 - loss: 6.9429 - acc: 0.564 - ETA: 1:58 - loss: 6.9186 - acc: 0.566 - ETA: 1:57 - loss: 6.8925 - acc: 0.567 - ETA: 1:57 - loss: 6.8689 - acc: 0.569 - ETA: 1:57 - loss: 6.8445 - acc: 0.570 - ETA: 1:57 - loss: 6.8180 - acc: 0.572 - ETA: 1:57 - loss: 6.7936 - acc: 0.573 - ETA: 1:57 - loss: 6.7707 - acc: 0.575 - ETA: 1:57 - loss: 6.7490 - acc: 0.576 - ETA: 1:57 - loss: 6.7270 - acc: 0.578 - ETA: 1:57 - loss: 6.7084 - acc: 0.579 - ETA: 1:57 - loss: 6.6880 - acc: 0.580 - ETA: 1:57 - loss: 6.6683 - acc: 0.581 - ETA: 1:56 - loss: 6.6482 - acc: 0.583 - ETA: 1:56 - loss: 6.6260 - acc: 0.584 - ETA: 1:56 - loss: 6.6039 - acc: 0.585 - ETA: 1:56 - loss: 6.5838 - acc: 0.587 - ETA: 1:56 - loss: 6.5648 - acc: 0.588 - ETA: 1:56 - loss: 6.5449 - acc: 0.589 - ETA: 1:56 - loss: 6.5260 - acc: 0.590 - ETA: 1:56 - loss: 6.5055 - acc: 0.592 - ETA: 1:56 - loss: 6.4864 - acc: 0.593 - ETA: 1:56 - loss: 6.4644 - acc: 0.594 - ETA: 1:56 - loss: 6.4434 - acc: 0.595 - ETA: 1:56 - loss: 6.4217 - acc: 0.597 - ETA: 1:56 - loss: 6.4010 - acc: 0.598 - ETA: 1:56 - loss: 6.3821 - acc: 0.599 - ETA: 1:56 - loss: 6.3624 - acc: 0.601 - ETA: 1:56 - loss: 6.3426 - acc: 0.602 - ETA: 1:55 - loss: 6.3245 - acc: 0.603 - ETA: 1:55 - loss: 6.3040 - acc: 0.604 - ETA: 1:55 - loss: 6.2849 - acc: 0.605 - ETA: 1:55 - loss: 6.2667 - acc: 0.607 - ETA: 1:55 - loss: 6.2470 - acc: 0.608 - ETA: 1:55 - loss: 6.2282 - acc: 0.609 - ETA: 1:55 - loss: 6.2100 - acc: 0.610 - ETA: 1:55 - loss: 6.1928 - acc: 0.611 - ETA: 1:55 - loss: 6.1727 - acc: 0.612 - ETA: 1:55 - loss: 6.1541 - acc: 0.614 - ETA: 1:55 - loss: 6.1359 - acc: 0.615 - ETA: 1:55 - loss: 6.1154 - acc: 0.616 - ETA: 1:55 - loss: 6.0959 - acc: 0.617 - ETA: 1:55 - loss: 6.0788 - acc: 0.618 - ETA: 1:55 - loss: 6.0618 - acc: 0.619 - ETA: 1:54 - loss: 6.0462 - acc: 0.620 - ETA: 1:54 - loss: 6.0291 - acc: 0.621 - ETA: 1:54 - loss: 6.0109 - acc: 0.623 - ETA: 1:54 - loss: 5.9928 - acc: 0.624 - ETA: 1:54 - loss: 5.9755 - acc: 0.625 - ETA: 1:54 - loss: 5.9604 - acc: 0.626 - ETA: 1:54 - loss: 5.9438 - acc: 0.627 - ETA: 1:54 - loss: 5.9269 - acc: 0.628 - ETA: 1:54 - loss: 5.9078 - acc: 0.629 - ETA: 1:54 - loss: 5.8903 - acc: 0.630 - ETA: 1:54 - loss: 5.8744 - acc: 0.631 - ETA: 1:54 - loss: 5.8578 - acc: 0.632 - ETA: 1:54 - loss: 5.8428 - acc: 0.633 - ETA: 1:54 - loss: 5.8271 - acc: 0.634 - ETA: 1:54 - loss: 5.8101 - acc: 0.635 - ETA: 1:54 - loss: 5.7973 - acc: 0.636 - ETA: 1:54 - loss: 5.7783 - acc: 0.637 - ETA: 1:53 - loss: 5.7615 - acc: 0.638 - ETA: 1:53 - loss: 5.7435 - acc: 0.639 - ETA: 1:53 - loss: 5.7242 - acc: 0.641 - ETA: 1:53 - loss: 5.7071 - acc: 0.642 - ETA: 1:53 - loss: 5.6901 - acc: 0.643 - ETA: 1:53 - loss: 5.6752 - acc: 0.644 - ETA: 1:53 - loss: 5.6597 - acc: 0.645 - ETA: 1:53 - loss: 5.6423 - acc: 0.646 - ETA: 1:53 - loss: 5.6251 - acc: 0.647 - ETA: 1:53 - loss: 5.6079 - acc: 0.648 - ETA: 1:53 - loss: 5.5915 - acc: 0.649 - ETA: 1:52 - loss: 5.5784 - acc: 0.650 - ETA: 1:52 - loss: 5.5660 - acc: 0.651 - ETA: 1:52 - loss: 5.5492 - acc: 0.652 - ETA: 1:52 - loss: 5.5357 - acc: 0.652 - ETA: 1:52 - loss: 5.5204 - acc: 0.653 - ETA: 1:52 - loss: 5.5051 - acc: 0.654 - ETA: 1:52 - loss: 5.4900 - acc: 0.655 - ETA: 1:52 - loss: 5.4761 - acc: 0.656 - ETA: 1:52 - loss: 5.4642 - acc: 0.657 - ETA: 1:52 - loss: 5.4499 - acc: 0.658 - ETA: 1:52 - loss: 5.4369 - acc: 0.659 - ETA: 1:52 - loss: 5.4228 - acc: 0.659 - ETA: 1:52 - loss: 5.4093 - acc: 0.660 - ETA: 1:52 - loss: 5.3934 - acc: 0.661 - ETA: 1:52 - loss: 5.3795 - acc: 0.662 - ETA: 1:52 - loss: 5.3638 - acc: 0.663 - ETA: 1:52 - loss: 5.3500 - acc: 0.664 - ETA: 1:51 - loss: 5.3363 - acc: 0.665 - ETA: 1:51 - loss: 5.3233 - acc: 0.666 - ETA: 1:51 - loss: 5.3109 - acc: 0.667 - ETA: 1:51 - loss: 5.2968 - acc: 0.667 - ETA: 1:51 - loss: 5.2822 - acc: 0.668 - ETA: 1:51 - loss: 5.2659 - acc: 0.669 - ETA: 1:51 - loss: 5.2527 - acc: 0.670 - ETA: 1:51 - loss: 5.2389 - acc: 0.671 - ETA: 1:51 - loss: 5.2264 - acc: 0.672 - ETA: 1:51 - loss: 5.2128 - acc: 0.673 - ETA: 1:51 - loss: 5.1970 - acc: 0.674 - ETA: 1:51 - loss: 5.1830 - acc: 0.675 - ETA: 1:50 - loss: 5.1673 - acc: 0.676 - ETA: 1:50 - loss: 5.1557 - acc: 0.676 - ETA: 1:50 - loss: 5.1413 - acc: 0.677 - ETA: 1:50 - loss: 5.1287 - acc: 0.678 - ETA: 1:50 - loss: 5.1161 - acc: 0.679 - ETA: 1:50 - loss: 5.1025 - acc: 0.680 - ETA: 1:50 - loss: 5.0890 - acc: 0.680 - ETA: 1:50 - loss: 5.0755 - acc: 0.681 - ETA: 1:50 - loss: 5.0643 - acc: 0.682 - ETA: 1:50 - loss: 5.0525 - acc: 0.683 - ETA: 1:50 - loss: 5.0403 - acc: 0.683 - ETA: 1:50 - loss: 5.0282 - acc: 0.684 - ETA: 1:50 - loss: 5.0171 - acc: 0.685 - ETA: 1:50 - loss: 5.0068 - acc: 0.686 - ETA: 1:50 - loss: 4.9976 - acc: 0.686 - ETA: 1:50 - loss: 4.9857 - acc: 0.687 - ETA: 1:50 - loss: 4.9723 - acc: 0.688 - ETA: 1:50 - loss: 4.9610 - acc: 0.688 - ETA: 1:49 - loss: 4.9509 - acc: 0.689 - ETA: 1:49 - loss: 4.9413 - acc: 0.690 - ETA: 1:49 - loss: 4.9292 - acc: 0.690 - ETA: 1:49 - loss: 4.9171 - acc: 0.691 - ETA: 1:49 - loss: 4.9036 - acc: 0.692514979/59406 [======>.......................] - ETA: 1:49 - loss: 4.8906 - acc: 0.693 - ETA: 1:49 - loss: 4.8783 - acc: 0.694 - ETA: 1:49 - loss: 4.8650 - acc: 0.694 - ETA: 1:49 - loss: 4.8519 - acc: 0.695 - ETA: 1:49 - loss: 4.8382 - acc: 0.696 - ETA: 1:49 - loss: 4.8277 - acc: 0.697 - ETA: 1:48 - loss: 4.8153 - acc: 0.698 - ETA: 1:48 - loss: 4.8018 - acc: 0.698 - ETA: 1:48 - loss: 4.7880 - acc: 0.699 - ETA: 1:48 - loss: 4.7772 - acc: 0.700 - ETA: 1:48 - loss: 4.7675 - acc: 0.701 - ETA: 1:48 - loss: 4.7571 - acc: 0.701 - ETA: 1:48 - loss: 4.7463 - acc: 0.702 - ETA: 1:48 - loss: 4.7342 - acc: 0.703 - ETA: 1:48 - loss: 4.7230 - acc: 0.703 - ETA: 1:48 - loss: 4.7144 - acc: 0.704 - ETA: 1:48 - loss: 4.7059 - acc: 0.704 - ETA: 1:48 - loss: 4.6944 - acc: 0.705 - ETA: 1:48 - loss: 4.6835 - acc: 0.706 - ETA: 1:48 - loss: 4.6732 - acc: 0.707 - ETA: 1:47 - loss: 4.6615 - acc: 0.707 - ETA: 1:47 - loss: 4.6524 - acc: 0.708 - ETA: 1:47 - loss: 4.6408 - acc: 0.709 - ETA: 1:47 - loss: 4.6297 - acc: 0.709 - ETA: 1:47 - loss: 4.6190 - acc: 0.710 - ETA: 1:47 - loss: 4.6075 - acc: 0.711 - ETA: 1:47 - loss: 4.5966 - acc: 0.711 - ETA: 1:47 - loss: 4.5876 - acc: 0.712 - ETA: 1:47 - loss: 4.5763 - acc: 0.713 - ETA: 1:47 - loss: 4.5655 - acc: 0.713 - ETA: 1:47 - loss: 4.5551 - acc: 0.714 - ETA: 1:47 - loss: 4.5431 - acc: 0.715 - ETA: 1:47 - loss: 4.5324 - acc: 0.715 - ETA: 1:46 - loss: 4.5244 - acc: 0.716 - ETA: 1:46 - loss: 4.5126 - acc: 0.717 - ETA: 1:46 - loss: 4.5038 - acc: 0.717 - ETA: 1:46 - loss: 4.4925 - acc: 0.718 - ETA: 1:46 - loss: 4.4816 - acc: 0.719 - ETA: 1:46 - loss: 4.4715 - acc: 0.719 - ETA: 1:46 - loss: 4.4619 - acc: 0.720 - ETA: 1:46 - loss: 4.4531 - acc: 0.720 - ETA: 1:46 - loss: 4.4429 - acc: 0.721 - ETA: 1:46 - loss: 4.4342 - acc: 0.722 - ETA: 1:46 - loss: 4.4248 - acc: 0.722 - ETA: 1:46 - loss: 4.4155 - acc: 0.723 - ETA: 1:45 - loss: 4.4065 - acc: 0.723 - ETA: 1:45 - loss: 4.3969 - acc: 0.724 - ETA: 1:45 - loss: 4.3884 - acc: 0.724 - ETA: 1:45 - loss: 4.3781 - acc: 0.725 - ETA: 1:45 - loss: 4.3694 - acc: 0.726 - ETA: 1:45 - loss: 4.3622 - acc: 0.726 - ETA: 1:45 - loss: 4.3538 - acc: 0.727 - ETA: 1:45 - loss: 4.3445 - acc: 0.727 - ETA: 1:45 - loss: 4.3355 - acc: 0.728 - ETA: 1:45 - loss: 4.3255 - acc: 0.728 - ETA: 1:45 - loss: 4.3166 - acc: 0.729 - ETA: 1:45 - loss: 4.3074 - acc: 0.729 - ETA: 1:45 - loss: 4.2974 - acc: 0.730 - ETA: 1:45 - loss: 4.2879 - acc: 0.731 - ETA: 1:45 - loss: 4.2788 - acc: 0.731 - ETA: 1:45 - loss: 4.2683 - acc: 0.732 - ETA: 1:44 - loss: 4.2578 - acc: 0.733 - ETA: 1:44 - loss: 4.2477 - acc: 0.733 - ETA: 1:44 - loss: 4.2377 - acc: 0.734 - ETA: 1:44 - loss: 4.2284 - acc: 0.734 - ETA: 1:44 - loss: 4.2185 - acc: 0.735 - ETA: 1:44 - loss: 4.2082 - acc: 0.736 - ETA: 1:44 - loss: 4.1998 - acc: 0.736 - ETA: 1:44 - loss: 4.1907 - acc: 0.737 - ETA: 1:44 - loss: 4.1809 - acc: 0.737 - ETA: 1:44 - loss: 4.1719 - acc: 0.738 - ETA: 1:44 - loss: 4.1626 - acc: 0.739 - ETA: 1:43 - loss: 4.1526 - acc: 0.739 - ETA: 1:43 - loss: 4.1444 - acc: 0.740 - ETA: 1:43 - loss: 4.1383 - acc: 0.740 - ETA: 1:43 - loss: 4.1295 - acc: 0.741 - ETA: 1:43 - loss: 4.1208 - acc: 0.741 - ETA: 1:43 - loss: 4.1124 - acc: 0.742 - ETA: 1:43 - loss: 4.1054 - acc: 0.742 - ETA: 1:43 - loss: 4.0967 - acc: 0.743 - ETA: 1:43 - loss: 4.0877 - acc: 0.743 - ETA: 1:43 - loss: 4.0805 - acc: 0.744 - ETA: 1:43 - loss: 4.0719 - acc: 0.744 - ETA: 1:43 - loss: 4.0658 - acc: 0.745 - ETA: 1:43 - loss: 4.0569 - acc: 0.745 - ETA: 1:43 - loss: 4.0488 - acc: 0.746 - ETA: 1:43 - loss: 4.0421 - acc: 0.746 - ETA: 1:43 - loss: 4.0333 - acc: 0.747 - ETA: 1:42 - loss: 4.0250 - acc: 0.747 - ETA: 1:42 - loss: 4.0167 - acc: 0.748 - ETA: 1:42 - loss: 4.0087 - acc: 0.748 - ETA: 1:42 - loss: 3.9994 - acc: 0.749 - ETA: 1:42 - loss: 3.9906 - acc: 0.749 - ETA: 1:42 - loss: 3.9814 - acc: 0.750 - ETA: 1:42 - loss: 3.9729 - acc: 0.750 - ETA: 1:42 - loss: 3.9635 - acc: 0.751 - ETA: 1:42 - loss: 3.9574 - acc: 0.751 - ETA: 1:42 - loss: 3.9484 - acc: 0.752 - ETA: 1:42 - loss: 3.9405 - acc: 0.752 - ETA: 1:41 - loss: 3.9315 - acc: 0.753 - ETA: 1:41 - loss: 3.9220 - acc: 0.754 - ETA: 1:41 - loss: 3.9145 - acc: 0.754 - ETA: 1:41 - loss: 3.9057 - acc: 0.755 - ETA: 1:41 - loss: 3.8978 - acc: 0.755 - ETA: 1:41 - loss: 3.8923 - acc: 0.756 - ETA: 1:41 - loss: 3.8858 - acc: 0.756 - ETA: 1:41 - loss: 3.8774 - acc: 0.756 - ETA: 1:41 - loss: 3.8700 - acc: 0.757 - ETA: 1:41 - loss: 3.8639 - acc: 0.757 - ETA: 1:41 - loss: 3.8575 - acc: 0.758 - ETA: 1:41 - loss: 3.8509 - acc: 0.758 - ETA: 1:41 - loss: 3.8436 - acc: 0.759 - ETA: 1:41 - loss: 3.8376 - acc: 0.759 - ETA: 1:41 - loss: 3.8306 - acc: 0.759 - ETA: 1:40 - loss: 3.8228 - acc: 0.760 - ETA: 1:40 - loss: 3.8156 - acc: 0.760 - ETA: 1:40 - loss: 3.8082 - acc: 0.761 - ETA: 1:40 - loss: 3.8030 - acc: 0.761 - ETA: 1:40 - loss: 3.7971 - acc: 0.761 - ETA: 1:40 - loss: 3.7898 - acc: 0.762 - ETA: 1:40 - loss: 3.7828 - acc: 0.762 - ETA: 1:40 - loss: 3.7754 - acc: 0.763 - ETA: 1:40 - loss: 3.7679 - acc: 0.763 - ETA: 1:40 - loss: 3.7615 - acc: 0.764 - ETA: 1:40 - loss: 3.7534 - acc: 0.764 - ETA: 1:40 - loss: 3.7457 - acc: 0.765 - ETA: 1:40 - loss: 3.7388 - acc: 0.765 - ETA: 1:40 - loss: 3.7310 - acc: 0.766 - ETA: 1:39 - loss: 3.7246 - acc: 0.766 - ETA: 1:39 - loss: 3.7169 - acc: 0.767 - ETA: 1:39 - loss: 3.7093 - acc: 0.767 - ETA: 1:39 - loss: 3.7029 - acc: 0.767 - ETA: 1:39 - loss: 3.6959 - acc: 0.768 - ETA: 1:39 - loss: 3.6881 - acc: 0.768 - ETA: 1:39 - loss: 3.6806 - acc: 0.769 - ETA: 1:39 - loss: 3.6736 - acc: 0.769 - ETA: 1:39 - loss: 3.6670 - acc: 0.770 - ETA: 1:39 - loss: 3.6604 - acc: 0.770 - ETA: 1:39 - loss: 3.6536 - acc: 0.770 - ETA: 1:39 - loss: 3.6468 - acc: 0.771 - ETA: 1:39 - loss: 3.6400 - acc: 0.771 - ETA: 1:39 - loss: 3.6343 - acc: 0.772 - ETA: 1:39 - loss: 3.6284 - acc: 0.772 - ETA: 1:38 - loss: 3.6214 - acc: 0.773 - ETA: 1:38 - loss: 3.6153 - acc: 0.773 - ETA: 1:38 - loss: 3.6103 - acc: 0.773 - ETA: 1:38 - loss: 3.6034 - acc: 0.774 - ETA: 1:38 - loss: 3.5973 - acc: 0.774 - ETA: 1:38 - loss: 3.5916 - acc: 0.774 - ETA: 1:38 - loss: 3.5858 - acc: 0.775 - ETA: 1:38 - loss: 3.5795 - acc: 0.775 - ETA: 1:38 - loss: 3.5735 - acc: 0.776 - ETA: 1:38 - loss: 3.5664 - acc: 0.776 - ETA: 1:38 - loss: 3.5594 - acc: 0.776 - ETA: 1:38 - loss: 3.5529 - acc: 0.777 - ETA: 1:38 - loss: 3.5462 - acc: 0.777 - ETA: 1:38 - loss: 3.5396 - acc: 0.778 - ETA: 1:38 - loss: 3.5337 - acc: 0.778 - ETA: 1:38 - loss: 3.5279 - acc: 0.778 - ETA: 1:38 - loss: 3.5216 - acc: 0.779 - ETA: 1:37 - loss: 3.5172 - acc: 0.779 - ETA: 1:37 - loss: 3.5128 - acc: 0.779 - ETA: 1:37 - loss: 3.5074 - acc: 0.780 - ETA: 1:37 - loss: 3.5009 - acc: 0.780 - ETA: 1:37 - loss: 3.4936 - acc: 0.781 - ETA: 1:37 - loss: 3.4890 - acc: 0.781 - ETA: 1:37 - loss: 3.4828 - acc: 0.781 - ETA: 1:37 - loss: 3.4766 - acc: 0.782 - ETA: 1:37 - loss: 3.4723 - acc: 0.782 - ETA: 1:37 - loss: 3.4664 - acc: 0.782 - ETA: 1:37 - loss: 3.4596 - acc: 0.783 - ETA: 1:37 - loss: 3.4532 - acc: 0.783 - ETA: 1:37 - loss: 3.4474 - acc: 0.783 - ETA: 1:37 - loss: 3.4418 - acc: 0.784 - ETA: 1:37 - loss: 3.4378 - acc: 0.784 - ETA: 1:37 - loss: 3.4325 - acc: 0.784 - ETA: 1:37 - loss: 3.4268 - acc: 0.785 - ETA: 1:36 - loss: 3.4208 - acc: 0.785 - ETA: 1:36 - loss: 3.4159 - acc: 0.785 - ETA: 1:36 - loss: 3.4116 - acc: 0.786 - ETA: 1:36 - loss: 3.4059 - acc: 0.786 - ETA: 1:36 - loss: 3.4000 - acc: 0.786 - ETA: 1:36 - loss: 3.3941 - acc: 0.787 - ETA: 1:36 - loss: 3.3882 - acc: 0.787 - ETA: 1:36 - loss: 3.3830 - acc: 0.787 - ETA: 1:36 - loss: 3.3772 - acc: 0.788 - ETA: 1:36 - loss: 3.3712 - acc: 0.788 - ETA: 1:36 - loss: 3.3647 - acc: 0.789 - ETA: 1:36 - loss: 3.3594 - acc: 0.789 - ETA: 1:36 - loss: 3.3541 - acc: 0.789 - ETA: 1:36 - loss: 3.3476 - acc: 0.790 - ETA: 1:36 - loss: 3.3419 - acc: 0.790 - ETA: 1:35 - loss: 3.3358 - acc: 0.790 - ETA: 1:35 - loss: 3.3294 - acc: 0.791 - ETA: 1:35 - loss: 3.3233 - acc: 0.791 - ETA: 1:35 - loss: 3.3173 - acc: 0.792 - ETA: 1:35 - loss: 3.3115 - acc: 0.792 - ETA: 1:35 - loss: 3.3057 - acc: 0.792 - ETA: 1:35 - loss: 3.3003 - acc: 0.793 - ETA: 1:35 - loss: 3.2957 - acc: 0.793 - ETA: 1:35 - loss: 3.2906 - acc: 0.793 - ETA: 1:35 - loss: 3.2857 - acc: 0.794 - ETA: 1:35 - loss: 3.2811 - acc: 0.794 - ETA: 1:35 - loss: 3.2756 - acc: 0.7946"
     ]
    },
    {
     "name": "stdout",
     "output_type": "stream",
     "text": [
      "20083/59406 [=========>....................] - ETA: 1:35 - loss: 3.2702 - acc: 0.795 - ETA: 1:35 - loss: 3.2652 - acc: 0.795 - ETA: 1:35 - loss: 3.2595 - acc: 0.795 - ETA: 1:35 - loss: 3.2539 - acc: 0.796 - ETA: 1:35 - loss: 3.2481 - acc: 0.796 - ETA: 1:34 - loss: 3.2425 - acc: 0.796 - ETA: 1:34 - loss: 3.2370 - acc: 0.797 - ETA: 1:34 - loss: 3.2316 - acc: 0.797 - ETA: 1:34 - loss: 3.2263 - acc: 0.797 - ETA: 1:34 - loss: 3.2210 - acc: 0.798 - ETA: 1:34 - loss: 3.2160 - acc: 0.798 - ETA: 1:34 - loss: 3.2105 - acc: 0.798 - ETA: 1:34 - loss: 3.2050 - acc: 0.799 - ETA: 1:34 - loss: 3.2011 - acc: 0.799 - ETA: 1:34 - loss: 3.1954 - acc: 0.799 - ETA: 1:34 - loss: 3.1898 - acc: 0.800 - ETA: 1:34 - loss: 3.1843 - acc: 0.800 - ETA: 1:34 - loss: 3.1806 - acc: 0.800 - ETA: 1:34 - loss: 3.1759 - acc: 0.800 - ETA: 1:33 - loss: 3.1705 - acc: 0.801 - ETA: 1:33 - loss: 3.1663 - acc: 0.801 - ETA: 1:33 - loss: 3.1604 - acc: 0.801 - ETA: 1:33 - loss: 3.1551 - acc: 0.802 - ETA: 1:33 - loss: 3.1500 - acc: 0.802 - ETA: 1:33 - loss: 3.1452 - acc: 0.802 - ETA: 1:33 - loss: 3.1402 - acc: 0.803 - ETA: 1:33 - loss: 3.1348 - acc: 0.803 - ETA: 1:33 - loss: 3.1300 - acc: 0.803 - ETA: 1:33 - loss: 3.1264 - acc: 0.804 - ETA: 1:33 - loss: 3.1213 - acc: 0.804 - ETA: 1:33 - loss: 3.1171 - acc: 0.804 - ETA: 1:33 - loss: 3.1144 - acc: 0.804 - ETA: 1:33 - loss: 3.1099 - acc: 0.805 - ETA: 1:33 - loss: 3.1067 - acc: 0.805 - ETA: 1:33 - loss: 3.1042 - acc: 0.805 - ETA: 1:33 - loss: 3.1011 - acc: 0.805 - ETA: 1:33 - loss: 3.0966 - acc: 0.805 - ETA: 1:33 - loss: 3.0937 - acc: 0.806 - ETA: 1:33 - loss: 3.0891 - acc: 0.806 - ETA: 1:33 - loss: 3.0858 - acc: 0.806 - ETA: 1:33 - loss: 3.0810 - acc: 0.806 - ETA: 1:32 - loss: 3.0770 - acc: 0.807 - ETA: 1:32 - loss: 3.0715 - acc: 0.807 - ETA: 1:32 - loss: 3.0663 - acc: 0.807 - ETA: 1:32 - loss: 3.0622 - acc: 0.808 - ETA: 1:32 - loss: 3.0568 - acc: 0.808 - ETA: 1:32 - loss: 3.0523 - acc: 0.808 - ETA: 1:32 - loss: 3.0481 - acc: 0.808 - ETA: 1:32 - loss: 3.0442 - acc: 0.809 - ETA: 1:32 - loss: 3.0393 - acc: 0.809 - ETA: 1:32 - loss: 3.0348 - acc: 0.809 - ETA: 1:32 - loss: 3.0301 - acc: 0.810 - ETA: 1:32 - loss: 3.0251 - acc: 0.810 - ETA: 1:32 - loss: 3.0215 - acc: 0.810 - ETA: 1:32 - loss: 3.0172 - acc: 0.810 - ETA: 1:31 - loss: 3.0126 - acc: 0.811 - ETA: 1:31 - loss: 3.0084 - acc: 0.811 - ETA: 1:31 - loss: 3.0052 - acc: 0.811 - ETA: 1:31 - loss: 3.0019 - acc: 0.811 - ETA: 1:31 - loss: 2.9980 - acc: 0.812 - ETA: 1:31 - loss: 2.9938 - acc: 0.812 - ETA: 1:31 - loss: 2.9893 - acc: 0.812 - ETA: 1:31 - loss: 2.9850 - acc: 0.812 - ETA: 1:31 - loss: 2.9806 - acc: 0.813 - ETA: 1:31 - loss: 2.9787 - acc: 0.813 - ETA: 1:31 - loss: 2.9739 - acc: 0.813 - ETA: 1:31 - loss: 2.9698 - acc: 0.813 - ETA: 1:31 - loss: 2.9653 - acc: 0.814 - ETA: 1:31 - loss: 2.9610 - acc: 0.814 - ETA: 1:31 - loss: 2.9576 - acc: 0.814 - ETA: 1:31 - loss: 2.9530 - acc: 0.814 - ETA: 1:31 - loss: 2.9484 - acc: 0.815 - ETA: 1:31 - loss: 2.9440 - acc: 0.815 - ETA: 1:30 - loss: 2.9398 - acc: 0.815 - ETA: 1:30 - loss: 2.9352 - acc: 0.816 - ETA: 1:30 - loss: 2.9306 - acc: 0.816 - ETA: 1:30 - loss: 2.9260 - acc: 0.816 - ETA: 1:30 - loss: 2.9215 - acc: 0.816 - ETA: 1:30 - loss: 2.9178 - acc: 0.817 - ETA: 1:30 - loss: 2.9135 - acc: 0.817 - ETA: 1:30 - loss: 2.9096 - acc: 0.817 - ETA: 1:30 - loss: 2.9050 - acc: 0.817 - ETA: 1:30 - loss: 2.9026 - acc: 0.818 - ETA: 1:30 - loss: 2.8979 - acc: 0.818 - ETA: 1:30 - loss: 2.8933 - acc: 0.818 - ETA: 1:30 - loss: 2.8891 - acc: 0.818 - ETA: 1:30 - loss: 2.8852 - acc: 0.819 - ETA: 1:30 - loss: 2.8812 - acc: 0.819 - ETA: 1:29 - loss: 2.8779 - acc: 0.819 - ETA: 1:29 - loss: 2.8753 - acc: 0.819 - ETA: 1:29 - loss: 2.8728 - acc: 0.819 - ETA: 1:29 - loss: 2.8692 - acc: 0.820 - ETA: 1:29 - loss: 2.8652 - acc: 0.820 - ETA: 1:29 - loss: 2.8623 - acc: 0.820 - ETA: 1:29 - loss: 2.8589 - acc: 0.820 - ETA: 1:29 - loss: 2.8549 - acc: 0.821 - ETA: 1:29 - loss: 2.8511 - acc: 0.821 - ETA: 1:29 - loss: 2.8475 - acc: 0.821 - ETA: 1:29 - loss: 2.8440 - acc: 0.821 - ETA: 1:29 - loss: 2.8400 - acc: 0.822 - ETA: 1:29 - loss: 2.8358 - acc: 0.822 - ETA: 1:29 - loss: 2.8319 - acc: 0.822 - ETA: 1:29 - loss: 2.8276 - acc: 0.822 - ETA: 1:29 - loss: 2.8254 - acc: 0.822 - ETA: 1:29 - loss: 2.8197 - acc: 0.823 - ETA: 1:29 - loss: 2.8157 - acc: 0.823 - ETA: 1:28 - loss: 2.8114 - acc: 0.823 - ETA: 1:28 - loss: 2.8071 - acc: 0.824 - ETA: 1:28 - loss: 2.8026 - acc: 0.824 - ETA: 1:28 - loss: 2.7984 - acc: 0.824 - ETA: 1:28 - loss: 2.7952 - acc: 0.824 - ETA: 1:28 - loss: 2.7909 - acc: 0.825 - ETA: 1:28 - loss: 2.7869 - acc: 0.825 - ETA: 1:28 - loss: 2.7828 - acc: 0.825 - ETA: 1:28 - loss: 2.7791 - acc: 0.825 - ETA: 1:28 - loss: 2.7755 - acc: 0.826 - ETA: 1:28 - loss: 2.7715 - acc: 0.826 - ETA: 1:28 - loss: 2.7676 - acc: 0.826 - ETA: 1:28 - loss: 2.7638 - acc: 0.826 - ETA: 1:28 - loss: 2.7608 - acc: 0.826 - ETA: 1:28 - loss: 2.7580 - acc: 0.827 - ETA: 1:28 - loss: 2.7550 - acc: 0.827 - ETA: 1:27 - loss: 2.7522 - acc: 0.827 - ETA: 1:27 - loss: 2.7500 - acc: 0.827 - ETA: 1:27 - loss: 2.7470 - acc: 0.827 - ETA: 1:27 - loss: 2.7435 - acc: 0.828 - ETA: 1:27 - loss: 2.7399 - acc: 0.828 - ETA: 1:27 - loss: 2.7361 - acc: 0.828 - ETA: 1:27 - loss: 2.7322 - acc: 0.828 - ETA: 1:27 - loss: 2.7286 - acc: 0.829 - ETA: 1:27 - loss: 2.7252 - acc: 0.829 - ETA: 1:27 - loss: 2.7228 - acc: 0.829 - ETA: 1:27 - loss: 2.7191 - acc: 0.829 - ETA: 1:27 - loss: 2.7161 - acc: 0.829 - ETA: 1:27 - loss: 2.7124 - acc: 0.830 - ETA: 1:27 - loss: 2.7090 - acc: 0.830 - ETA: 1:27 - loss: 2.7050 - acc: 0.830 - ETA: 1:27 - loss: 2.7033 - acc: 0.830 - ETA: 1:27 - loss: 2.6997 - acc: 0.830 - ETA: 1:27 - loss: 2.6962 - acc: 0.831 - ETA: 1:26 - loss: 2.6926 - acc: 0.831 - ETA: 1:26 - loss: 2.6890 - acc: 0.831 - ETA: 1:26 - loss: 2.6851 - acc: 0.831 - ETA: 1:26 - loss: 2.6813 - acc: 0.831 - ETA: 1:26 - loss: 2.6778 - acc: 0.832 - ETA: 1:26 - loss: 2.6751 - acc: 0.832 - ETA: 1:26 - loss: 2.6715 - acc: 0.832 - ETA: 1:26 - loss: 2.6680 - acc: 0.832 - ETA: 1:26 - loss: 2.6644 - acc: 0.833 - ETA: 1:26 - loss: 2.6608 - acc: 0.833 - ETA: 1:26 - loss: 2.6584 - acc: 0.833 - ETA: 1:26 - loss: 2.6551 - acc: 0.833 - ETA: 1:26 - loss: 2.6517 - acc: 0.833 - ETA: 1:26 - loss: 2.6496 - acc: 0.833 - ETA: 1:26 - loss: 2.6463 - acc: 0.834 - ETA: 1:26 - loss: 2.6427 - acc: 0.834 - ETA: 1:26 - loss: 2.6396 - acc: 0.834 - ETA: 1:26 - loss: 2.6364 - acc: 0.834 - ETA: 1:26 - loss: 2.6329 - acc: 0.835 - ETA: 1:25 - loss: 2.6297 - acc: 0.835 - ETA: 1:25 - loss: 2.6261 - acc: 0.835 - ETA: 1:25 - loss: 2.6231 - acc: 0.835 - ETA: 1:25 - loss: 2.6195 - acc: 0.835 - ETA: 1:25 - loss: 2.6164 - acc: 0.836 - ETA: 1:25 - loss: 2.6131 - acc: 0.836 - ETA: 1:25 - loss: 2.6104 - acc: 0.836 - ETA: 1:25 - loss: 2.6074 - acc: 0.836 - ETA: 1:25 - loss: 2.6040 - acc: 0.836 - ETA: 1:25 - loss: 2.6004 - acc: 0.837 - ETA: 1:25 - loss: 2.5970 - acc: 0.837 - ETA: 1:25 - loss: 2.5936 - acc: 0.837 - ETA: 1:25 - loss: 2.5904 - acc: 0.837 - ETA: 1:25 - loss: 2.5882 - acc: 0.837 - ETA: 1:25 - loss: 2.5847 - acc: 0.838 - ETA: 1:25 - loss: 2.5812 - acc: 0.838 - ETA: 1:25 - loss: 2.5777 - acc: 0.838 - ETA: 1:24 - loss: 2.5747 - acc: 0.838 - ETA: 1:24 - loss: 2.5722 - acc: 0.838 - ETA: 1:24 - loss: 2.5697 - acc: 0.838 - ETA: 1:24 - loss: 2.5675 - acc: 0.839 - ETA: 1:24 - loss: 2.5642 - acc: 0.839 - ETA: 1:24 - loss: 2.5613 - acc: 0.839 - ETA: 1:24 - loss: 2.5581 - acc: 0.839 - ETA: 1:24 - loss: 2.5557 - acc: 0.839 - ETA: 1:24 - loss: 2.5532 - acc: 0.840 - ETA: 1:24 - loss: 2.5497 - acc: 0.840 - ETA: 1:24 - loss: 2.5464 - acc: 0.840 - ETA: 1:24 - loss: 2.5441 - acc: 0.840 - ETA: 1:24 - loss: 2.5420 - acc: 0.840 - ETA: 1:24 - loss: 2.5390 - acc: 0.840 - ETA: 1:24 - loss: 2.5361 - acc: 0.841 - ETA: 1:24 - loss: 2.5328 - acc: 0.841 - ETA: 1:24 - loss: 2.5299 - acc: 0.841 - ETA: 1:24 - loss: 2.5274 - acc: 0.841 - ETA: 1:24 - loss: 2.5252 - acc: 0.841 - ETA: 1:23 - loss: 2.5220 - acc: 0.841 - ETA: 1:23 - loss: 2.5188 - acc: 0.842 - ETA: 1:23 - loss: 2.5155 - acc: 0.842 - ETA: 1:23 - loss: 2.5124 - acc: 0.842 - ETA: 1:23 - loss: 2.5090 - acc: 0.842 - ETA: 1:23 - loss: 2.5072 - acc: 0.842 - ETA: 1:23 - loss: 2.5038 - acc: 0.843 - ETA: 1:23 - loss: 2.5003 - acc: 0.843 - ETA: 1:23 - loss: 2.4970 - acc: 0.8435"
     ]
    },
    {
     "name": "stdout",
     "output_type": "stream",
     "text": [
      "25250/59406 [===========>..................] - ETA: 1:23 - loss: 2.4937 - acc: 0.843 - ETA: 1:23 - loss: 2.4911 - acc: 0.843 - ETA: 1:23 - loss: 2.4879 - acc: 0.844 - ETA: 1:23 - loss: 2.4862 - acc: 0.844 - ETA: 1:23 - loss: 2.4854 - acc: 0.844 - ETA: 1:23 - loss: 2.4833 - acc: 0.844 - ETA: 1:23 - loss: 2.4803 - acc: 0.844 - ETA: 1:22 - loss: 2.4773 - acc: 0.844 - ETA: 1:22 - loss: 2.4745 - acc: 0.844 - ETA: 1:22 - loss: 2.4712 - acc: 0.845 - ETA: 1:22 - loss: 2.4683 - acc: 0.845 - ETA: 1:22 - loss: 2.4654 - acc: 0.845 - ETA: 1:22 - loss: 2.4625 - acc: 0.845 - ETA: 1:22 - loss: 2.4595 - acc: 0.845 - ETA: 1:22 - loss: 2.4571 - acc: 0.846 - ETA: 1:22 - loss: 2.4542 - acc: 0.846 - ETA: 1:22 - loss: 2.4513 - acc: 0.846 - ETA: 1:22 - loss: 2.4489 - acc: 0.846 - ETA: 1:22 - loss: 2.4461 - acc: 0.846 - ETA: 1:22 - loss: 2.4429 - acc: 0.846 - ETA: 1:22 - loss: 2.4397 - acc: 0.847 - ETA: 1:22 - loss: 2.4362 - acc: 0.847 - ETA: 1:22 - loss: 2.4327 - acc: 0.847 - ETA: 1:21 - loss: 2.4295 - acc: 0.847 - ETA: 1:21 - loss: 2.4270 - acc: 0.847 - ETA: 1:21 - loss: 2.4246 - acc: 0.848 - ETA: 1:21 - loss: 2.4238 - acc: 0.848 - ETA: 1:21 - loss: 2.4214 - acc: 0.848 - ETA: 1:21 - loss: 2.4189 - acc: 0.848 - ETA: 1:21 - loss: 2.4166 - acc: 0.848 - ETA: 1:21 - loss: 2.4150 - acc: 0.848 - ETA: 1:21 - loss: 2.4132 - acc: 0.848 - ETA: 1:21 - loss: 2.4102 - acc: 0.848 - ETA: 1:21 - loss: 2.4071 - acc: 0.849 - ETA: 1:21 - loss: 2.4051 - acc: 0.849 - ETA: 1:21 - loss: 2.4022 - acc: 0.849 - ETA: 1:21 - loss: 2.3996 - acc: 0.849 - ETA: 1:21 - loss: 2.3967 - acc: 0.849 - ETA: 1:21 - loss: 2.3952 - acc: 0.849 - ETA: 1:21 - loss: 2.3925 - acc: 0.850 - ETA: 1:21 - loss: 2.3906 - acc: 0.850 - ETA: 1:21 - loss: 2.3879 - acc: 0.850 - ETA: 1:21 - loss: 2.3854 - acc: 0.850 - ETA: 1:21 - loss: 2.3826 - acc: 0.850 - ETA: 1:21 - loss: 2.3799 - acc: 0.850 - ETA: 1:20 - loss: 2.3771 - acc: 0.851 - ETA: 1:20 - loss: 2.3742 - acc: 0.851 - ETA: 1:20 - loss: 2.3713 - acc: 0.851 - ETA: 1:20 - loss: 2.3692 - acc: 0.851 - ETA: 1:20 - loss: 2.3667 - acc: 0.851 - ETA: 1:20 - loss: 2.3649 - acc: 0.851 - ETA: 1:20 - loss: 2.3620 - acc: 0.852 - ETA: 1:20 - loss: 2.3591 - acc: 0.852 - ETA: 1:20 - loss: 2.3561 - acc: 0.852 - ETA: 1:20 - loss: 2.3531 - acc: 0.852 - ETA: 1:20 - loss: 2.3502 - acc: 0.852 - ETA: 1:20 - loss: 2.3473 - acc: 0.852 - ETA: 1:20 - loss: 2.3443 - acc: 0.853 - ETA: 1:20 - loss: 2.3414 - acc: 0.853 - ETA: 1:20 - loss: 2.3387 - acc: 0.853 - ETA: 1:20 - loss: 2.3373 - acc: 0.853 - ETA: 1:20 - loss: 2.3344 - acc: 0.853 - ETA: 1:19 - loss: 2.3315 - acc: 0.853 - ETA: 1:19 - loss: 2.3288 - acc: 0.854 - ETA: 1:19 - loss: 2.3269 - acc: 0.854 - ETA: 1:19 - loss: 2.3251 - acc: 0.854 - ETA: 1:19 - loss: 2.3227 - acc: 0.854 - ETA: 1:19 - loss: 2.3202 - acc: 0.854 - ETA: 1:19 - loss: 2.3182 - acc: 0.854 - ETA: 1:19 - loss: 2.3155 - acc: 0.854 - ETA: 1:19 - loss: 2.3129 - acc: 0.855 - ETA: 1:19 - loss: 2.3102 - acc: 0.855 - ETA: 1:19 - loss: 2.3077 - acc: 0.855 - ETA: 1:19 - loss: 2.3052 - acc: 0.855 - ETA: 1:19 - loss: 2.3026 - acc: 0.855 - ETA: 1:19 - loss: 2.2997 - acc: 0.855 - ETA: 1:19 - loss: 2.2970 - acc: 0.856 - ETA: 1:19 - loss: 2.2951 - acc: 0.856 - ETA: 1:19 - loss: 2.2926 - acc: 0.856 - ETA: 1:18 - loss: 2.2907 - acc: 0.856 - ETA: 1:18 - loss: 2.2877 - acc: 0.856 - ETA: 1:18 - loss: 2.2848 - acc: 0.856 - ETA: 1:18 - loss: 2.2820 - acc: 0.857 - ETA: 1:18 - loss: 2.2808 - acc: 0.857 - ETA: 1:18 - loss: 2.2784 - acc: 0.857 - ETA: 1:18 - loss: 2.2755 - acc: 0.857 - ETA: 1:18 - loss: 2.2729 - acc: 0.857 - ETA: 1:18 - loss: 2.2703 - acc: 0.857 - ETA: 1:18 - loss: 2.2675 - acc: 0.857 - ETA: 1:18 - loss: 2.2649 - acc: 0.858 - ETA: 1:18 - loss: 2.2624 - acc: 0.858 - ETA: 1:18 - loss: 2.2596 - acc: 0.858 - ETA: 1:18 - loss: 2.2570 - acc: 0.858 - ETA: 1:18 - loss: 2.2546 - acc: 0.858 - ETA: 1:18 - loss: 2.2521 - acc: 0.858 - ETA: 1:17 - loss: 2.2495 - acc: 0.859 - ETA: 1:17 - loss: 2.2471 - acc: 0.859 - ETA: 1:17 - loss: 2.2446 - acc: 0.859 - ETA: 1:17 - loss: 2.2423 - acc: 0.859 - ETA: 1:17 - loss: 2.2400 - acc: 0.859 - ETA: 1:17 - loss: 2.2375 - acc: 0.859 - ETA: 1:17 - loss: 2.2357 - acc: 0.859 - ETA: 1:17 - loss: 2.2334 - acc: 0.860 - ETA: 1:17 - loss: 2.2311 - acc: 0.860 - ETA: 1:17 - loss: 2.2285 - acc: 0.860 - ETA: 1:17 - loss: 2.2261 - acc: 0.860 - ETA: 1:17 - loss: 2.2237 - acc: 0.860 - ETA: 1:17 - loss: 2.2219 - acc: 0.860 - ETA: 1:17 - loss: 2.2194 - acc: 0.860 - ETA: 1:17 - loss: 2.2168 - acc: 0.861 - ETA: 1:17 - loss: 2.2143 - acc: 0.861 - ETA: 1:17 - loss: 2.2127 - acc: 0.861 - ETA: 1:17 - loss: 2.2109 - acc: 0.861 - ETA: 1:16 - loss: 2.2089 - acc: 0.861 - ETA: 1:16 - loss: 2.2068 - acc: 0.861 - ETA: 1:16 - loss: 2.2031 - acc: 0.861 - ETA: 1:16 - loss: 2.2013 - acc: 0.862 - ETA: 1:16 - loss: 2.1992 - acc: 0.862 - ETA: 1:16 - loss: 2.1975 - acc: 0.862 - ETA: 1:16 - loss: 2.1948 - acc: 0.862 - ETA: 1:16 - loss: 2.1924 - acc: 0.862 - ETA: 1:16 - loss: 2.1904 - acc: 0.862 - ETA: 1:16 - loss: 2.1888 - acc: 0.862 - ETA: 1:16 - loss: 2.1867 - acc: 0.863 - ETA: 1:16 - loss: 2.1846 - acc: 0.863 - ETA: 1:16 - loss: 2.1824 - acc: 0.863 - ETA: 1:16 - loss: 2.1802 - acc: 0.863 - ETA: 1:16 - loss: 2.1787 - acc: 0.863 - ETA: 1:16 - loss: 2.1772 - acc: 0.863 - ETA: 1:16 - loss: 2.1749 - acc: 0.863 - ETA: 1:15 - loss: 2.1724 - acc: 0.863 - ETA: 1:15 - loss: 2.1700 - acc: 0.864 - ETA: 1:15 - loss: 2.1676 - acc: 0.864 - ETA: 1:15 - loss: 2.1651 - acc: 0.864 - ETA: 1:15 - loss: 2.1626 - acc: 0.864 - ETA: 1:15 - loss: 2.1610 - acc: 0.864 - ETA: 1:15 - loss: 2.1595 - acc: 0.864 - ETA: 1:15 - loss: 2.1574 - acc: 0.864 - ETA: 1:15 - loss: 2.1551 - acc: 0.864 - ETA: 1:15 - loss: 2.1524 - acc: 0.865 - ETA: 1:15 - loss: 2.1508 - acc: 0.865 - ETA: 1:15 - loss: 2.1482 - acc: 0.865 - ETA: 1:15 - loss: 2.1460 - acc: 0.865 - ETA: 1:15 - loss: 2.1444 - acc: 0.865 - ETA: 1:15 - loss: 2.1419 - acc: 0.865 - ETA: 1:15 - loss: 2.1395 - acc: 0.865 - ETA: 1:14 - loss: 2.1377 - acc: 0.866 - ETA: 1:14 - loss: 2.1360 - acc: 0.866 - ETA: 1:14 - loss: 2.1335 - acc: 0.866 - ETA: 1:14 - loss: 2.1317 - acc: 0.866 - ETA: 1:14 - loss: 2.1294 - acc: 0.866 - ETA: 1:14 - loss: 2.1271 - acc: 0.866 - ETA: 1:14 - loss: 2.1251 - acc: 0.866 - ETA: 1:14 - loss: 2.1230 - acc: 0.867 - ETA: 1:14 - loss: 2.1216 - acc: 0.867 - ETA: 1:14 - loss: 2.1194 - acc: 0.867 - ETA: 1:14 - loss: 2.1172 - acc: 0.867 - ETA: 1:14 - loss: 2.1152 - acc: 0.867 - ETA: 1:14 - loss: 2.1132 - acc: 0.867 - ETA: 1:14 - loss: 2.1111 - acc: 0.867 - ETA: 1:14 - loss: 2.1092 - acc: 0.867 - ETA: 1:14 - loss: 2.1075 - acc: 0.867 - ETA: 1:14 - loss: 2.1055 - acc: 0.868 - ETA: 1:14 - loss: 2.1033 - acc: 0.868 - ETA: 1:14 - loss: 2.1010 - acc: 0.868 - ETA: 1:14 - loss: 2.0990 - acc: 0.868 - ETA: 1:13 - loss: 2.0970 - acc: 0.868 - ETA: 1:13 - loss: 2.0957 - acc: 0.868 - ETA: 1:13 - loss: 2.0937 - acc: 0.868 - ETA: 1:13 - loss: 2.0920 - acc: 0.868 - ETA: 1:13 - loss: 2.0896 - acc: 0.869 - ETA: 1:13 - loss: 2.0880 - acc: 0.869 - ETA: 1:13 - loss: 2.0857 - acc: 0.869 - ETA: 1:13 - loss: 2.0848 - acc: 0.869 - ETA: 1:13 - loss: 2.0825 - acc: 0.869 - ETA: 1:13 - loss: 2.0808 - acc: 0.869 - ETA: 1:13 - loss: 2.0785 - acc: 0.869 - ETA: 1:13 - loss: 2.0772 - acc: 0.869 - ETA: 1:13 - loss: 2.0750 - acc: 0.870 - ETA: 1:13 - loss: 2.0727 - acc: 0.870 - ETA: 1:13 - loss: 2.0705 - acc: 0.870 - ETA: 1:13 - loss: 2.0684 - acc: 0.870 - ETA: 1:12 - loss: 2.0663 - acc: 0.870 - ETA: 1:12 - loss: 2.0642 - acc: 0.870 - ETA: 1:12 - loss: 2.0623 - acc: 0.870 - ETA: 1:12 - loss: 2.0605 - acc: 0.870 - ETA: 1:12 - loss: 2.0593 - acc: 0.871 - ETA: 1:12 - loss: 2.0587 - acc: 0.871 - ETA: 1:12 - loss: 2.0567 - acc: 0.871 - ETA: 1:12 - loss: 2.0554 - acc: 0.871 - ETA: 1:12 - loss: 2.0540 - acc: 0.871 - ETA: 1:12 - loss: 2.0518 - acc: 0.871 - ETA: 1:12 - loss: 2.0497 - acc: 0.871 - ETA: 1:12 - loss: 2.0470 - acc: 0.871 - ETA: 1:12 - loss: 2.0450 - acc: 0.871 - ETA: 1:12 - loss: 2.0428 - acc: 0.872 - ETA: 1:12 - loss: 2.0410 - acc: 0.872 - ETA: 1:12 - loss: 2.0397 - acc: 0.872 - ETA: 1:12 - loss: 2.0375 - acc: 0.872 - ETA: 1:12 - loss: 2.0359 - acc: 0.872 - ETA: 1:12 - loss: 2.0338 - acc: 0.872 - ETA: 1:11 - loss: 2.0318 - acc: 0.872 - ETA: 1:11 - loss: 2.0296 - acc: 0.872 - ETA: 1:11 - loss: 2.0281 - acc: 0.8729"
     ]
    },
    {
     "name": "stdout",
     "output_type": "stream",
     "text": [
      "30414/59406 [==============>...............] - ETA: 1:11 - loss: 2.0260 - acc: 0.873 - ETA: 1:11 - loss: 2.0239 - acc: 0.873 - ETA: 1:11 - loss: 2.0218 - acc: 0.873 - ETA: 1:11 - loss: 2.0205 - acc: 0.873 - ETA: 1:11 - loss: 2.0187 - acc: 0.873 - ETA: 1:11 - loss: 2.0172 - acc: 0.873 - ETA: 1:11 - loss: 2.0152 - acc: 0.873 - ETA: 1:11 - loss: 2.0137 - acc: 0.873 - ETA: 1:11 - loss: 2.0126 - acc: 0.873 - ETA: 1:11 - loss: 2.0112 - acc: 0.874 - ETA: 1:11 - loss: 2.0093 - acc: 0.874 - ETA: 1:11 - loss: 2.0070 - acc: 0.874 - ETA: 1:11 - loss: 2.0052 - acc: 0.874 - ETA: 1:11 - loss: 2.0032 - acc: 0.874 - ETA: 1:10 - loss: 2.0013 - acc: 0.874 - ETA: 1:10 - loss: 1.9992 - acc: 0.874 - ETA: 1:10 - loss: 1.9975 - acc: 0.874 - ETA: 1:10 - loss: 1.9957 - acc: 0.874 - ETA: 1:10 - loss: 1.9938 - acc: 0.875 - ETA: 1:10 - loss: 1.9916 - acc: 0.875 - ETA: 1:10 - loss: 1.9898 - acc: 0.875 - ETA: 1:10 - loss: 1.9879 - acc: 0.875 - ETA: 1:10 - loss: 1.9858 - acc: 0.875 - ETA: 1:10 - loss: 1.9838 - acc: 0.875 - ETA: 1:10 - loss: 1.9819 - acc: 0.875 - ETA: 1:10 - loss: 1.9798 - acc: 0.875 - ETA: 1:10 - loss: 1.9784 - acc: 0.876 - ETA: 1:10 - loss: 1.9762 - acc: 0.876 - ETA: 1:10 - loss: 1.9743 - acc: 0.876 - ETA: 1:10 - loss: 1.9723 - acc: 0.876 - ETA: 1:10 - loss: 1.9701 - acc: 0.876 - ETA: 1:09 - loss: 1.9688 - acc: 0.876 - ETA: 1:09 - loss: 1.9666 - acc: 0.876 - ETA: 1:09 - loss: 1.9645 - acc: 0.876 - ETA: 1:09 - loss: 1.9626 - acc: 0.877 - ETA: 1:09 - loss: 1.9608 - acc: 0.877 - ETA: 1:09 - loss: 1.9590 - acc: 0.877 - ETA: 1:09 - loss: 1.9572 - acc: 0.877 - ETA: 1:09 - loss: 1.9553 - acc: 0.877 - ETA: 1:09 - loss: 1.9535 - acc: 0.877 - ETA: 1:09 - loss: 1.9517 - acc: 0.877 - ETA: 1:09 - loss: 1.9500 - acc: 0.877 - ETA: 1:09 - loss: 1.9483 - acc: 0.877 - ETA: 1:09 - loss: 1.9463 - acc: 0.878 - ETA: 1:09 - loss: 1.9453 - acc: 0.878 - ETA: 1:09 - loss: 1.9434 - acc: 0.878 - ETA: 1:09 - loss: 1.9415 - acc: 0.878 - ETA: 1:09 - loss: 1.9397 - acc: 0.878 - ETA: 1:09 - loss: 1.9378 - acc: 0.878 - ETA: 1:08 - loss: 1.9357 - acc: 0.878 - ETA: 1:08 - loss: 1.9340 - acc: 0.878 - ETA: 1:08 - loss: 1.9328 - acc: 0.878 - ETA: 1:08 - loss: 1.9308 - acc: 0.879 - ETA: 1:08 - loss: 1.9296 - acc: 0.879 - ETA: 1:08 - loss: 1.9276 - acc: 0.879 - ETA: 1:08 - loss: 1.9258 - acc: 0.879 - ETA: 1:08 - loss: 1.9238 - acc: 0.879 - ETA: 1:08 - loss: 1.9225 - acc: 0.879 - ETA: 1:08 - loss: 1.9208 - acc: 0.879 - ETA: 1:08 - loss: 1.9190 - acc: 0.879 - ETA: 1:08 - loss: 1.9177 - acc: 0.879 - ETA: 1:08 - loss: 1.9157 - acc: 0.879 - ETA: 1:08 - loss: 1.9150 - acc: 0.880 - ETA: 1:08 - loss: 1.9132 - acc: 0.880 - ETA: 1:08 - loss: 1.9114 - acc: 0.880 - ETA: 1:08 - loss: 1.9096 - acc: 0.880 - ETA: 1:08 - loss: 1.9079 - acc: 0.880 - ETA: 1:07 - loss: 1.9062 - acc: 0.880 - ETA: 1:07 - loss: 1.9045 - acc: 0.880 - ETA: 1:07 - loss: 1.9033 - acc: 0.880 - ETA: 1:07 - loss: 1.9021 - acc: 0.880 - ETA: 1:07 - loss: 1.9009 - acc: 0.880 - ETA: 1:07 - loss: 1.8993 - acc: 0.881 - ETA: 1:07 - loss: 1.8982 - acc: 0.881 - ETA: 1:07 - loss: 1.8967 - acc: 0.881 - ETA: 1:07 - loss: 1.8955 - acc: 0.881 - ETA: 1:07 - loss: 1.8938 - acc: 0.881 - ETA: 1:07 - loss: 1.8919 - acc: 0.881 - ETA: 1:07 - loss: 1.8900 - acc: 0.881 - ETA: 1:07 - loss: 1.8883 - acc: 0.881 - ETA: 1:07 - loss: 1.8878 - acc: 0.881 - ETA: 1:07 - loss: 1.8859 - acc: 0.881 - ETA: 1:07 - loss: 1.8842 - acc: 0.881 - ETA: 1:07 - loss: 1.8824 - acc: 0.882 - ETA: 1:07 - loss: 1.8807 - acc: 0.882 - ETA: 1:06 - loss: 1.8793 - acc: 0.882 - ETA: 1:06 - loss: 1.8781 - acc: 0.882 - ETA: 1:06 - loss: 1.8763 - acc: 0.882 - ETA: 1:06 - loss: 1.8751 - acc: 0.882 - ETA: 1:06 - loss: 1.8735 - acc: 0.882 - ETA: 1:06 - loss: 1.8723 - acc: 0.882 - ETA: 1:06 - loss: 1.8707 - acc: 0.882 - ETA: 1:06 - loss: 1.8692 - acc: 0.882 - ETA: 1:06 - loss: 1.8682 - acc: 0.882 - ETA: 1:06 - loss: 1.8678 - acc: 0.882 - ETA: 1:06 - loss: 1.8662 - acc: 0.883 - ETA: 1:06 - loss: 1.8646 - acc: 0.883 - ETA: 1:06 - loss: 1.8628 - acc: 0.883 - ETA: 1:06 - loss: 1.8619 - acc: 0.883 - ETA: 1:06 - loss: 1.8601 - acc: 0.883 - ETA: 1:06 - loss: 1.8586 - acc: 0.883 - ETA: 1:06 - loss: 1.8574 - acc: 0.883 - ETA: 1:06 - loss: 1.8558 - acc: 0.883 - ETA: 1:06 - loss: 1.8540 - acc: 0.883 - ETA: 1:05 - loss: 1.8530 - acc: 0.883 - ETA: 1:05 - loss: 1.8511 - acc: 0.884 - ETA: 1:05 - loss: 1.8500 - acc: 0.884 - ETA: 1:05 - loss: 1.8484 - acc: 0.884 - ETA: 1:05 - loss: 1.8466 - acc: 0.884 - ETA: 1:05 - loss: 1.8453 - acc: 0.884 - ETA: 1:05 - loss: 1.8435 - acc: 0.884 - ETA: 1:05 - loss: 1.8418 - acc: 0.884 - ETA: 1:05 - loss: 1.8402 - acc: 0.884 - ETA: 1:05 - loss: 1.8384 - acc: 0.884 - ETA: 1:05 - loss: 1.8367 - acc: 0.884 - ETA: 1:05 - loss: 1.8350 - acc: 0.885 - ETA: 1:05 - loss: 1.8339 - acc: 0.885 - ETA: 1:05 - loss: 1.8323 - acc: 0.885 - ETA: 1:05 - loss: 1.8309 - acc: 0.885 - ETA: 1:05 - loss: 1.8298 - acc: 0.885 - ETA: 1:05 - loss: 1.8281 - acc: 0.885 - ETA: 1:05 - loss: 1.8267 - acc: 0.885 - ETA: 1:04 - loss: 1.8251 - acc: 0.885 - ETA: 1:04 - loss: 1.8236 - acc: 0.885 - ETA: 1:04 - loss: 1.8220 - acc: 0.885 - ETA: 1:04 - loss: 1.8204 - acc: 0.885 - ETA: 1:04 - loss: 1.8188 - acc: 0.886 - ETA: 1:04 - loss: 1.8172 - acc: 0.886 - ETA: 1:04 - loss: 1.8162 - acc: 0.886 - ETA: 1:04 - loss: 1.8152 - acc: 0.886 - ETA: 1:04 - loss: 1.8137 - acc: 0.886 - ETA: 1:04 - loss: 1.8122 - acc: 0.886 - ETA: 1:04 - loss: 1.8111 - acc: 0.886 - ETA: 1:04 - loss: 1.8095 - acc: 0.886 - ETA: 1:04 - loss: 1.8079 - acc: 0.886 - ETA: 1:04 - loss: 1.8062 - acc: 0.886 - ETA: 1:04 - loss: 1.8044 - acc: 0.886 - ETA: 1:04 - loss: 1.8034 - acc: 0.887 - ETA: 1:04 - loss: 1.8022 - acc: 0.887 - ETA: 1:04 - loss: 1.8005 - acc: 0.887 - ETA: 1:03 - loss: 1.7989 - acc: 0.887 - ETA: 1:03 - loss: 1.7973 - acc: 0.887 - ETA: 1:03 - loss: 1.7956 - acc: 0.887 - ETA: 1:03 - loss: 1.7943 - acc: 0.887 - ETA: 1:03 - loss: 1.7928 - acc: 0.887 - ETA: 1:03 - loss: 1.7913 - acc: 0.887 - ETA: 1:03 - loss: 1.7904 - acc: 0.887 - ETA: 1:03 - loss: 1.7888 - acc: 0.887 - ETA: 1:03 - loss: 1.7879 - acc: 0.887 - ETA: 1:03 - loss: 1.7863 - acc: 0.888 - ETA: 1:03 - loss: 1.7864 - acc: 0.888 - ETA: 1:03 - loss: 1.7853 - acc: 0.888 - ETA: 1:03 - loss: 1.7838 - acc: 0.888 - ETA: 1:03 - loss: 1.7824 - acc: 0.888 - ETA: 1:03 - loss: 1.7810 - acc: 0.888 - ETA: 1:03 - loss: 1.7797 - acc: 0.888 - ETA: 1:03 - loss: 1.7783 - acc: 0.888 - ETA: 1:03 - loss: 1.7768 - acc: 0.888 - ETA: 1:03 - loss: 1.7759 - acc: 0.888 - ETA: 1:02 - loss: 1.7743 - acc: 0.888 - ETA: 1:02 - loss: 1.7732 - acc: 0.888 - ETA: 1:02 - loss: 1.7715 - acc: 0.889 - ETA: 1:02 - loss: 1.7703 - acc: 0.889 - ETA: 1:02 - loss: 1.7687 - acc: 0.889 - ETA: 1:02 - loss: 1.7676 - acc: 0.889 - ETA: 1:02 - loss: 1.7660 - acc: 0.889 - ETA: 1:02 - loss: 1.7644 - acc: 0.889 - ETA: 1:02 - loss: 1.7628 - acc: 0.889 - ETA: 1:02 - loss: 1.7613 - acc: 0.889 - ETA: 1:02 - loss: 1.7598 - acc: 0.889 - ETA: 1:02 - loss: 1.7587 - acc: 0.889 - ETA: 1:02 - loss: 1.7571 - acc: 0.889 - ETA: 1:02 - loss: 1.7558 - acc: 0.890 - ETA: 1:02 - loss: 1.7543 - acc: 0.890 - ETA: 1:02 - loss: 1.7535 - acc: 0.890 - ETA: 1:02 - loss: 1.7525 - acc: 0.890 - ETA: 1:01 - loss: 1.7511 - acc: 0.890 - ETA: 1:01 - loss: 1.7497 - acc: 0.890 - ETA: 1:01 - loss: 1.7483 - acc: 0.890 - ETA: 1:01 - loss: 1.7474 - acc: 0.890 - ETA: 1:01 - loss: 1.7460 - acc: 0.890 - ETA: 1:01 - loss: 1.7444 - acc: 0.890 - ETA: 1:01 - loss: 1.7430 - acc: 0.890 - ETA: 1:01 - loss: 1.7422 - acc: 0.890 - ETA: 1:01 - loss: 1.7409 - acc: 0.890 - ETA: 1:01 - loss: 1.7393 - acc: 0.891 - ETA: 1:01 - loss: 1.7378 - acc: 0.891 - ETA: 1:01 - loss: 1.7369 - acc: 0.891 - ETA: 1:01 - loss: 1.7355 - acc: 0.891 - ETA: 1:01 - loss: 1.7341 - acc: 0.891 - ETA: 1:01 - loss: 1.7327 - acc: 0.891 - ETA: 1:01 - loss: 1.7313 - acc: 0.891 - ETA: 1:01 - loss: 1.7298 - acc: 0.891 - ETA: 1:01 - loss: 1.7282 - acc: 0.891 - ETA: 1:01 - loss: 1.7267 - acc: 0.891 - ETA: 1:00 - loss: 1.7252 - acc: 0.891 - ETA: 1:00 - loss: 1.7244 - acc: 0.891 - ETA: 1:00 - loss: 1.7235 - acc: 0.892 - ETA: 1:00 - loss: 1.7221 - acc: 0.892 - ETA: 1:00 - loss: 1.7216 - acc: 0.892 - ETA: 1:00 - loss: 1.7208 - acc: 0.892 - ETA: 1:00 - loss: 1.7195 - acc: 0.892 - ETA: 1:00 - loss: 1.7191 - acc: 0.892 - ETA: 1:00 - loss: 1.7177 - acc: 0.8924"
     ]
    },
    {
     "name": "stdout",
     "output_type": "stream",
     "text": [
      "35881/59406 [=================>............] - ETA: 1:00 - loss: 1.7164 - acc: 0.892 - ETA: 1:00 - loss: 1.7150 - acc: 0.892 - ETA: 1:00 - loss: 1.7136 - acc: 0.892 - ETA: 1:00 - loss: 1.7123 - acc: 0.892 - ETA: 1:00 - loss: 1.7107 - acc: 0.892 - ETA: 1:00 - loss: 1.7100 - acc: 0.892 - ETA: 1:00 - loss: 1.7085 - acc: 0.892 - ETA: 1:00 - loss: 1.7074 - acc: 0.893 - ETA: 1:00 - loss: 1.7060 - acc: 0.893 - ETA: 1:00 - loss: 1.7045 - acc: 0.893 - ETA: 1:00 - loss: 1.7037 - acc: 0.893 - ETA: 59s - loss: 1.7022 - acc: 0.893 - ETA: 59s - loss: 1.7008 - acc: 0.89 - ETA: 59s - loss: 1.6993 - acc: 0.89 - ETA: 59s - loss: 1.6978 - acc: 0.89 - ETA: 59s - loss: 1.6964 - acc: 0.89 - ETA: 59s - loss: 1.6954 - acc: 0.89 - ETA: 59s - loss: 1.6938 - acc: 0.89 - ETA: 59s - loss: 1.6923 - acc: 0.89 - ETA: 59s - loss: 1.6909 - acc: 0.89 - ETA: 59s - loss: 1.6899 - acc: 0.89 - ETA: 59s - loss: 1.6886 - acc: 0.89 - ETA: 59s - loss: 1.6878 - acc: 0.89 - ETA: 59s - loss: 1.6871 - acc: 0.89 - ETA: 59s - loss: 1.6857 - acc: 0.89 - ETA: 59s - loss: 1.6849 - acc: 0.89 - ETA: 59s - loss: 1.6837 - acc: 0.89 - ETA: 59s - loss: 1.6828 - acc: 0.89 - ETA: 59s - loss: 1.6815 - acc: 0.89 - ETA: 58s - loss: 1.6808 - acc: 0.89 - ETA: 58s - loss: 1.6794 - acc: 0.89 - ETA: 58s - loss: 1.6786 - acc: 0.89 - ETA: 58s - loss: 1.6772 - acc: 0.89 - ETA: 58s - loss: 1.6759 - acc: 0.89 - ETA: 58s - loss: 1.6746 - acc: 0.89 - ETA: 58s - loss: 1.6732 - acc: 0.89 - ETA: 58s - loss: 1.6724 - acc: 0.89 - ETA: 58s - loss: 1.6719 - acc: 0.89 - ETA: 58s - loss: 1.6705 - acc: 0.89 - ETA: 58s - loss: 1.6690 - acc: 0.89 - ETA: 58s - loss: 1.6675 - acc: 0.89 - ETA: 58s - loss: 1.6661 - acc: 0.89 - ETA: 58s - loss: 1.6646 - acc: 0.89 - ETA: 58s - loss: 1.6632 - acc: 0.89 - ETA: 58s - loss: 1.6622 - acc: 0.89 - ETA: 58s - loss: 1.6615 - acc: 0.89 - ETA: 58s - loss: 1.6604 - acc: 0.89 - ETA: 57s - loss: 1.6592 - acc: 0.89 - ETA: 57s - loss: 1.6579 - acc: 0.89 - ETA: 57s - loss: 1.6566 - acc: 0.89 - ETA: 57s - loss: 1.6554 - acc: 0.89 - ETA: 57s - loss: 1.6547 - acc: 0.89 - ETA: 57s - loss: 1.6539 - acc: 0.89 - ETA: 57s - loss: 1.6531 - acc: 0.89 - ETA: 57s - loss: 1.6523 - acc: 0.89 - ETA: 57s - loss: 1.6514 - acc: 0.89 - ETA: 57s - loss: 1.6507 - acc: 0.89 - ETA: 57s - loss: 1.6495 - acc: 0.89 - ETA: 57s - loss: 1.6483 - acc: 0.89 - ETA: 57s - loss: 1.6469 - acc: 0.89 - ETA: 57s - loss: 1.6454 - acc: 0.89 - ETA: 57s - loss: 1.6440 - acc: 0.89 - ETA: 57s - loss: 1.6431 - acc: 0.89 - ETA: 57s - loss: 1.6423 - acc: 0.89 - ETA: 57s - loss: 1.6408 - acc: 0.89 - ETA: 56s - loss: 1.6395 - acc: 0.89 - ETA: 56s - loss: 1.6386 - acc: 0.89 - ETA: 56s - loss: 1.6376 - acc: 0.89 - ETA: 56s - loss: 1.6362 - acc: 0.89 - ETA: 56s - loss: 1.6354 - acc: 0.89 - ETA: 56s - loss: 1.6345 - acc: 0.89 - ETA: 56s - loss: 1.6332 - acc: 0.89 - ETA: 56s - loss: 1.6325 - acc: 0.89 - ETA: 56s - loss: 1.6318 - acc: 0.89 - ETA: 56s - loss: 1.6307 - acc: 0.89 - ETA: 56s - loss: 1.6295 - acc: 0.89 - ETA: 56s - loss: 1.6282 - acc: 0.89 - ETA: 56s - loss: 1.6269 - acc: 0.89 - ETA: 56s - loss: 1.6258 - acc: 0.89 - ETA: 56s - loss: 1.6246 - acc: 0.89 - ETA: 56s - loss: 1.6234 - acc: 0.89 - ETA: 56s - loss: 1.6221 - acc: 0.89 - ETA: 56s - loss: 1.6208 - acc: 0.89 - ETA: 56s - loss: 1.6197 - acc: 0.89 - ETA: 55s - loss: 1.6183 - acc: 0.89 - ETA: 55s - loss: 1.6171 - acc: 0.89 - ETA: 55s - loss: 1.6162 - acc: 0.89 - ETA: 55s - loss: 1.6159 - acc: 0.89 - ETA: 55s - loss: 1.6146 - acc: 0.89 - ETA: 55s - loss: 1.6133 - acc: 0.89 - ETA: 55s - loss: 1.6120 - acc: 0.89 - ETA: 55s - loss: 1.6106 - acc: 0.89 - ETA: 55s - loss: 1.6097 - acc: 0.89 - ETA: 55s - loss: 1.6084 - acc: 0.89 - ETA: 55s - loss: 1.6070 - acc: 0.89 - ETA: 55s - loss: 1.6056 - acc: 0.89 - ETA: 55s - loss: 1.6048 - acc: 0.89 - ETA: 55s - loss: 1.6040 - acc: 0.89 - ETA: 55s - loss: 1.6028 - acc: 0.89 - ETA: 55s - loss: 1.6022 - acc: 0.89 - ETA: 55s - loss: 1.6010 - acc: 0.89 - ETA: 54s - loss: 1.6003 - acc: 0.89 - ETA: 54s - loss: 1.5992 - acc: 0.89 - ETA: 54s - loss: 1.5980 - acc: 0.89 - ETA: 54s - loss: 1.5973 - acc: 0.89 - ETA: 54s - loss: 1.5961 - acc: 0.90 - ETA: 54s - loss: 1.5948 - acc: 0.90 - ETA: 54s - loss: 1.5946 - acc: 0.90 - ETA: 54s - loss: 1.5934 - acc: 0.90 - ETA: 54s - loss: 1.5921 - acc: 0.90 - ETA: 54s - loss: 1.5907 - acc: 0.90 - ETA: 54s - loss: 1.5894 - acc: 0.90 - ETA: 54s - loss: 1.5880 - acc: 0.90 - ETA: 54s - loss: 1.5867 - acc: 0.90 - ETA: 54s - loss: 1.5855 - acc: 0.90 - ETA: 54s - loss: 1.5842 - acc: 0.90 - ETA: 54s - loss: 1.5834 - acc: 0.90 - ETA: 54s - loss: 1.5825 - acc: 0.90 - ETA: 53s - loss: 1.5813 - acc: 0.90 - ETA: 53s - loss: 1.5800 - acc: 0.90 - ETA: 53s - loss: 1.5789 - acc: 0.90 - ETA: 53s - loss: 1.5781 - acc: 0.90 - ETA: 53s - loss: 1.5769 - acc: 0.90 - ETA: 53s - loss: 1.5767 - acc: 0.90 - ETA: 53s - loss: 1.5756 - acc: 0.90 - ETA: 53s - loss: 1.5744 - acc: 0.90 - ETA: 53s - loss: 1.5738 - acc: 0.90 - ETA: 53s - loss: 1.5732 - acc: 0.90 - ETA: 53s - loss: 1.5719 - acc: 0.90 - ETA: 53s - loss: 1.5713 - acc: 0.90 - ETA: 53s - loss: 1.5707 - acc: 0.90 - ETA: 53s - loss: 1.5694 - acc: 0.90 - ETA: 53s - loss: 1.5682 - acc: 0.90 - ETA: 53s - loss: 1.5669 - acc: 0.90 - ETA: 53s - loss: 1.5657 - acc: 0.90 - ETA: 53s - loss: 1.5644 - acc: 0.90 - ETA: 52s - loss: 1.5631 - acc: 0.90 - ETA: 52s - loss: 1.5619 - acc: 0.90 - ETA: 52s - loss: 1.5612 - acc: 0.90 - ETA: 52s - loss: 1.5600 - acc: 0.90 - ETA: 52s - loss: 1.5593 - acc: 0.90 - ETA: 52s - loss: 1.5586 - acc: 0.90 - ETA: 52s - loss: 1.5573 - acc: 0.90 - ETA: 52s - loss: 1.5567 - acc: 0.90 - ETA: 52s - loss: 1.5555 - acc: 0.90 - ETA: 52s - loss: 1.5544 - acc: 0.90 - ETA: 52s - loss: 1.5532 - acc: 0.90 - ETA: 52s - loss: 1.5521 - acc: 0.90 - ETA: 52s - loss: 1.5510 - acc: 0.90 - ETA: 52s - loss: 1.5499 - acc: 0.90 - ETA: 52s - loss: 1.5488 - acc: 0.90 - ETA: 52s - loss: 1.5477 - acc: 0.90 - ETA: 52s - loss: 1.5466 - acc: 0.90 - ETA: 52s - loss: 1.5460 - acc: 0.90 - ETA: 52s - loss: 1.5449 - acc: 0.90 - ETA: 51s - loss: 1.5438 - acc: 0.90 - ETA: 51s - loss: 1.5426 - acc: 0.90 - ETA: 51s - loss: 1.5419 - acc: 0.90 - ETA: 51s - loss: 1.5407 - acc: 0.90 - ETA: 51s - loss: 1.5400 - acc: 0.90 - ETA: 51s - loss: 1.5389 - acc: 0.90 - ETA: 51s - loss: 1.5376 - acc: 0.90 - ETA: 51s - loss: 1.5365 - acc: 0.90 - ETA: 51s - loss: 1.5353 - acc: 0.90 - ETA: 51s - loss: 1.5345 - acc: 0.90 - ETA: 51s - loss: 1.5343 - acc: 0.90 - ETA: 51s - loss: 1.5332 - acc: 0.90 - ETA: 51s - loss: 1.5321 - acc: 0.90 - ETA: 51s - loss: 1.5309 - acc: 0.90 - ETA: 51s - loss: 1.5298 - acc: 0.90 - ETA: 51s - loss: 1.5287 - acc: 0.90 - ETA: 51s - loss: 1.5278 - acc: 0.90 - ETA: 51s - loss: 1.5267 - acc: 0.90 - ETA: 51s - loss: 1.5262 - acc: 0.90 - ETA: 50s - loss: 1.5251 - acc: 0.90 - ETA: 50s - loss: 1.5241 - acc: 0.90 - ETA: 50s - loss: 1.5231 - acc: 0.90 - ETA: 50s - loss: 1.5229 - acc: 0.90 - ETA: 50s - loss: 1.5218 - acc: 0.90 - ETA: 50s - loss: 1.5208 - acc: 0.90 - ETA: 50s - loss: 1.5197 - acc: 0.90 - ETA: 50s - loss: 1.5189 - acc: 0.90 - ETA: 50s - loss: 1.5182 - acc: 0.90 - ETA: 50s - loss: 1.5176 - acc: 0.90 - ETA: 50s - loss: 1.5164 - acc: 0.90 - ETA: 50s - loss: 1.5156 - acc: 0.90 - ETA: 50s - loss: 1.5149 - acc: 0.90 - ETA: 50s - loss: 1.5138 - acc: 0.90 - ETA: 50s - loss: 1.5127 - acc: 0.90 - ETA: 50s - loss: 1.5120 - acc: 0.90 - ETA: 50s - loss: 1.5111 - acc: 0.90 - ETA: 50s - loss: 1.5109 - acc: 0.90 - ETA: 50s - loss: 1.5102 - acc: 0.90 - ETA: 49s - loss: 1.5096 - acc: 0.90 - ETA: 49s - loss: 1.5085 - acc: 0.90 - ETA: 49s - loss: 1.5075 - acc: 0.90 - ETA: 49s - loss: 1.5066 - acc: 0.90 - ETA: 49s - loss: 1.5056 - acc: 0.90 - ETA: 49s - loss: 1.5049 - acc: 0.90 - ETA: 49s - loss: 1.5039 - acc: 0.90 - ETA: 49s - loss: 1.5028 - acc: 0.90 - ETA: 49s - loss: 1.5023 - acc: 0.90 - ETA: 49s - loss: 1.5013 - acc: 0.90 - ETA: 49s - loss: 1.5003 - acc: 0.90 - ETA: 49s - loss: 1.4992 - acc: 0.90 - ETA: 49s - loss: 1.4986 - acc: 0.90 - ETA: 49s - loss: 1.4975 - acc: 0.90 - ETA: 49s - loss: 1.4965 - acc: 0.90 - ETA: 49s - loss: 1.4959 - acc: 0.90 - ETA: 49s - loss: 1.4952 - acc: 0.90 - ETA: 49s - loss: 1.4940 - acc: 0.90 - ETA: 49s - loss: 1.4929 - acc: 0.90 - ETA: 48s - loss: 1.4931 - acc: 0.90 - ETA: 48s - loss: 1.4919 - acc: 0.9065"
     ]
    },
    {
     "name": "stdout",
     "output_type": "stream",
     "text": [
      "41387/59406 [===================>..........] - ETA: 48s - loss: 1.4913 - acc: 0.90 - ETA: 48s - loss: 1.4901 - acc: 0.90 - ETA: 48s - loss: 1.4889 - acc: 0.90 - ETA: 48s - loss: 1.4884 - acc: 0.90 - ETA: 48s - loss: 1.4878 - acc: 0.90 - ETA: 48s - loss: 1.4872 - acc: 0.90 - ETA: 48s - loss: 1.4861 - acc: 0.90 - ETA: 48s - loss: 1.4851 - acc: 0.90 - ETA: 48s - loss: 1.4841 - acc: 0.90 - ETA: 48s - loss: 1.4831 - acc: 0.90 - ETA: 48s - loss: 1.4821 - acc: 0.90 - ETA: 48s - loss: 1.4811 - acc: 0.90 - ETA: 48s - loss: 1.4801 - acc: 0.90 - ETA: 48s - loss: 1.4795 - acc: 0.90 - ETA: 48s - loss: 1.4789 - acc: 0.90 - ETA: 48s - loss: 1.4784 - acc: 0.90 - ETA: 47s - loss: 1.4777 - acc: 0.90 - ETA: 47s - loss: 1.4766 - acc: 0.90 - ETA: 47s - loss: 1.4754 - acc: 0.90 - ETA: 47s - loss: 1.4748 - acc: 0.90 - ETA: 47s - loss: 1.4737 - acc: 0.90 - ETA: 47s - loss: 1.4728 - acc: 0.90 - ETA: 47s - loss: 1.4721 - acc: 0.90 - ETA: 47s - loss: 1.4715 - acc: 0.90 - ETA: 47s - loss: 1.4714 - acc: 0.90 - ETA: 47s - loss: 1.4703 - acc: 0.90 - ETA: 47s - loss: 1.4692 - acc: 0.90 - ETA: 47s - loss: 1.4682 - acc: 0.90 - ETA: 47s - loss: 1.4672 - acc: 0.90 - ETA: 47s - loss: 1.4662 - acc: 0.90 - ETA: 47s - loss: 1.4661 - acc: 0.90 - ETA: 47s - loss: 1.4651 - acc: 0.90 - ETA: 47s - loss: 1.4645 - acc: 0.90 - ETA: 47s - loss: 1.4639 - acc: 0.90 - ETA: 46s - loss: 1.4630 - acc: 0.90 - ETA: 46s - loss: 1.4620 - acc: 0.90 - ETA: 46s - loss: 1.4609 - acc: 0.90 - ETA: 46s - loss: 1.4604 - acc: 0.90 - ETA: 46s - loss: 1.4595 - acc: 0.90 - ETA: 46s - loss: 1.4585 - acc: 0.90 - ETA: 46s - loss: 1.4576 - acc: 0.90 - ETA: 46s - loss: 1.4570 - acc: 0.90 - ETA: 46s - loss: 1.4568 - acc: 0.90 - ETA: 46s - loss: 1.4557 - acc: 0.90 - ETA: 46s - loss: 1.4546 - acc: 0.90 - ETA: 46s - loss: 1.4537 - acc: 0.90 - ETA: 46s - loss: 1.4528 - acc: 0.90 - ETA: 46s - loss: 1.4519 - acc: 0.90 - ETA: 46s - loss: 1.4512 - acc: 0.90 - ETA: 46s - loss: 1.4501 - acc: 0.90 - ETA: 46s - loss: 1.4494 - acc: 0.90 - ETA: 46s - loss: 1.4484 - acc: 0.90 - ETA: 45s - loss: 1.4474 - acc: 0.90 - ETA: 45s - loss: 1.4464 - acc: 0.90 - ETA: 45s - loss: 1.4456 - acc: 0.90 - ETA: 45s - loss: 1.4452 - acc: 0.90 - ETA: 45s - loss: 1.4442 - acc: 0.90 - ETA: 45s - loss: 1.4434 - acc: 0.90 - ETA: 45s - loss: 1.4425 - acc: 0.90 - ETA: 45s - loss: 1.4419 - acc: 0.90 - ETA: 45s - loss: 1.4409 - acc: 0.90 - ETA: 45s - loss: 1.4399 - acc: 0.90 - ETA: 45s - loss: 1.4390 - acc: 0.90 - ETA: 45s - loss: 1.4389 - acc: 0.90 - ETA: 45s - loss: 1.4382 - acc: 0.90 - ETA: 45s - loss: 1.4372 - acc: 0.91 - ETA: 45s - loss: 1.4362 - acc: 0.91 - ETA: 45s - loss: 1.4352 - acc: 0.91 - ETA: 45s - loss: 1.4350 - acc: 0.91 - ETA: 45s - loss: 1.4340 - acc: 0.91 - ETA: 45s - loss: 1.4330 - acc: 0.91 - ETA: 44s - loss: 1.4325 - acc: 0.91 - ETA: 44s - loss: 1.4315 - acc: 0.91 - ETA: 44s - loss: 1.4309 - acc: 0.91 - ETA: 44s - loss: 1.4303 - acc: 0.91 - ETA: 44s - loss: 1.4293 - acc: 0.91 - ETA: 44s - loss: 1.4283 - acc: 0.91 - ETA: 44s - loss: 1.4274 - acc: 0.91 - ETA: 44s - loss: 1.4264 - acc: 0.91 - ETA: 44s - loss: 1.4256 - acc: 0.91 - ETA: 44s - loss: 1.4248 - acc: 0.91 - ETA: 44s - loss: 1.4243 - acc: 0.91 - ETA: 44s - loss: 1.4233 - acc: 0.91 - ETA: 44s - loss: 1.4224 - acc: 0.91 - ETA: 44s - loss: 1.4215 - acc: 0.91 - ETA: 44s - loss: 1.4207 - acc: 0.91 - ETA: 44s - loss: 1.4197 - acc: 0.91 - ETA: 44s - loss: 1.4188 - acc: 0.91 - ETA: 44s - loss: 1.4179 - acc: 0.91 - ETA: 44s - loss: 1.4170 - acc: 0.91 - ETA: 43s - loss: 1.4159 - acc: 0.91 - ETA: 43s - loss: 1.4150 - acc: 0.91 - ETA: 43s - loss: 1.4144 - acc: 0.91 - ETA: 43s - loss: 1.4134 - acc: 0.91 - ETA: 43s - loss: 1.4123 - acc: 0.91 - ETA: 43s - loss: 1.4117 - acc: 0.91 - ETA: 43s - loss: 1.4108 - acc: 0.91 - ETA: 43s - loss: 1.4098 - acc: 0.91 - ETA: 43s - loss: 1.4088 - acc: 0.91 - ETA: 43s - loss: 1.4082 - acc: 0.91 - ETA: 43s - loss: 1.4072 - acc: 0.91 - ETA: 43s - loss: 1.4064 - acc: 0.91 - ETA: 43s - loss: 1.4056 - acc: 0.91 - ETA: 43s - loss: 1.4047 - acc: 0.91 - ETA: 43s - loss: 1.4042 - acc: 0.91 - ETA: 43s - loss: 1.4032 - acc: 0.91 - ETA: 43s - loss: 1.4024 - acc: 0.91 - ETA: 43s - loss: 1.4015 - acc: 0.91 - ETA: 42s - loss: 1.4007 - acc: 0.91 - ETA: 42s - loss: 1.3997 - acc: 0.91 - ETA: 42s - loss: 1.3988 - acc: 0.91 - ETA: 42s - loss: 1.3979 - acc: 0.91 - ETA: 42s - loss: 1.3974 - acc: 0.91 - ETA: 42s - loss: 1.3969 - acc: 0.91 - ETA: 42s - loss: 1.3959 - acc: 0.91 - ETA: 42s - loss: 1.3950 - acc: 0.91 - ETA: 42s - loss: 1.3940 - acc: 0.91 - ETA: 42s - loss: 1.3930 - acc: 0.91 - ETA: 42s - loss: 1.3918 - acc: 0.91 - ETA: 42s - loss: 1.3909 - acc: 0.91 - ETA: 42s - loss: 1.3900 - acc: 0.91 - ETA: 42s - loss: 1.3890 - acc: 0.91 - ETA: 42s - loss: 1.3884 - acc: 0.91 - ETA: 42s - loss: 1.3875 - acc: 0.91 - ETA: 42s - loss: 1.3870 - acc: 0.91 - ETA: 42s - loss: 1.3861 - acc: 0.91 - ETA: 41s - loss: 1.3853 - acc: 0.91 - ETA: 41s - loss: 1.3844 - acc: 0.91 - ETA: 41s - loss: 1.3840 - acc: 0.91 - ETA: 41s - loss: 1.3832 - acc: 0.91 - ETA: 41s - loss: 1.3823 - acc: 0.91 - ETA: 41s - loss: 1.3819 - acc: 0.91 - ETA: 41s - loss: 1.3815 - acc: 0.91 - ETA: 41s - loss: 1.3806 - acc: 0.91 - ETA: 41s - loss: 1.3805 - acc: 0.91 - ETA: 41s - loss: 1.3799 - acc: 0.91 - ETA: 41s - loss: 1.3794 - acc: 0.91 - ETA: 41s - loss: 1.3785 - acc: 0.91 - ETA: 41s - loss: 1.3776 - acc: 0.91 - ETA: 41s - loss: 1.3771 - acc: 0.91 - ETA: 41s - loss: 1.3761 - acc: 0.91 - ETA: 41s - loss: 1.3751 - acc: 0.91 - ETA: 41s - loss: 1.3742 - acc: 0.91 - ETA: 41s - loss: 1.3733 - acc: 0.91 - ETA: 41s - loss: 1.3724 - acc: 0.91 - ETA: 40s - loss: 1.3715 - acc: 0.91 - ETA: 40s - loss: 1.3705 - acc: 0.91 - ETA: 40s - loss: 1.3696 - acc: 0.91 - ETA: 40s - loss: 1.3688 - acc: 0.91 - ETA: 40s - loss: 1.3683 - acc: 0.91 - ETA: 40s - loss: 1.3675 - acc: 0.91 - ETA: 40s - loss: 1.3667 - acc: 0.91 - ETA: 40s - loss: 1.3660 - acc: 0.91 - ETA: 40s - loss: 1.3652 - acc: 0.91 - ETA: 40s - loss: 1.3648 - acc: 0.91 - ETA: 40s - loss: 1.3643 - acc: 0.91 - ETA: 40s - loss: 1.3635 - acc: 0.91 - ETA: 40s - loss: 1.3630 - acc: 0.91 - ETA: 40s - loss: 1.3631 - acc: 0.91 - ETA: 40s - loss: 1.3622 - acc: 0.91 - ETA: 40s - loss: 1.3614 - acc: 0.91 - ETA: 40s - loss: 1.3604 - acc: 0.91 - ETA: 40s - loss: 1.3595 - acc: 0.91 - ETA: 40s - loss: 1.3585 - acc: 0.91 - ETA: 39s - loss: 1.3576 - acc: 0.91 - ETA: 39s - loss: 1.3567 - acc: 0.91 - ETA: 39s - loss: 1.3558 - acc: 0.91 - ETA: 39s - loss: 1.3549 - acc: 0.91 - ETA: 39s - loss: 1.3544 - acc: 0.91 - ETA: 39s - loss: 1.3543 - acc: 0.91 - ETA: 39s - loss: 1.3533 - acc: 0.91 - ETA: 39s - loss: 1.3525 - acc: 0.91 - ETA: 39s - loss: 1.3517 - acc: 0.91 - ETA: 39s - loss: 1.3508 - acc: 0.91 - ETA: 39s - loss: 1.3500 - acc: 0.91 - ETA: 39s - loss: 1.3493 - acc: 0.91 - ETA: 39s - loss: 1.3484 - acc: 0.91 - ETA: 39s - loss: 1.3476 - acc: 0.91 - ETA: 39s - loss: 1.3472 - acc: 0.91 - ETA: 39s - loss: 1.3464 - acc: 0.91 - ETA: 39s - loss: 1.3456 - acc: 0.91 - ETA: 39s - loss: 1.3448 - acc: 0.91 - ETA: 39s - loss: 1.3442 - acc: 0.91 - ETA: 38s - loss: 1.3437 - acc: 0.91 - ETA: 38s - loss: 1.3427 - acc: 0.91 - ETA: 38s - loss: 1.3419 - acc: 0.91 - ETA: 38s - loss: 1.3414 - acc: 0.91 - ETA: 38s - loss: 1.3405 - acc: 0.91 - ETA: 38s - loss: 1.3396 - acc: 0.91 - ETA: 38s - loss: 1.3387 - acc: 0.91 - ETA: 38s - loss: 1.3378 - acc: 0.91 - ETA: 38s - loss: 1.3373 - acc: 0.91 - ETA: 38s - loss: 1.3365 - acc: 0.91 - ETA: 38s - loss: 1.3356 - acc: 0.91 - ETA: 38s - loss: 1.3348 - acc: 0.91 - ETA: 38s - loss: 1.3340 - acc: 0.91 - ETA: 38s - loss: 1.3332 - acc: 0.91 - ETA: 38s - loss: 1.3324 - acc: 0.91 - ETA: 38s - loss: 1.3316 - acc: 0.91 - ETA: 38s - loss: 1.3308 - acc: 0.91 - ETA: 38s - loss: 1.3299 - acc: 0.91 - ETA: 37s - loss: 1.3291 - acc: 0.91 - ETA: 37s - loss: 1.3288 - acc: 0.91 - ETA: 37s - loss: 1.3280 - acc: 0.91 - ETA: 37s - loss: 1.3272 - acc: 0.91 - ETA: 37s - loss: 1.3265 - acc: 0.91 - ETA: 37s - loss: 1.3266 - acc: 0.91 - ETA: 37s - loss: 1.3258 - acc: 0.91 - ETA: 37s - loss: 1.3250 - acc: 0.91 - ETA: 37s - loss: 1.3244 - acc: 0.91 - ETA: 37s - loss: 1.3243 - acc: 0.91 - ETA: 37s - loss: 1.3234 - acc: 0.91 - ETA: 37s - loss: 1.3225 - acc: 0.91 - ETA: 37s - loss: 1.3220 - acc: 0.91 - ETA: 37s - loss: 1.3211 - acc: 0.9172"
     ]
    },
    {
     "name": "stdout",
     "output_type": "stream",
     "text": [
      "46636/59406 [======================>.......] - ETA: 37s - loss: 1.3211 - acc: 0.91 - ETA: 37s - loss: 1.3204 - acc: 0.91 - ETA: 37s - loss: 1.3199 - acc: 0.91 - ETA: 37s - loss: 1.3192 - acc: 0.91 - ETA: 36s - loss: 1.3184 - acc: 0.91 - ETA: 36s - loss: 1.3176 - acc: 0.91 - ETA: 36s - loss: 1.3173 - acc: 0.91 - ETA: 36s - loss: 1.3164 - acc: 0.91 - ETA: 36s - loss: 1.3156 - acc: 0.91 - ETA: 36s - loss: 1.3149 - acc: 0.91 - ETA: 36s - loss: 1.3141 - acc: 0.91 - ETA: 36s - loss: 1.3134 - acc: 0.91 - ETA: 36s - loss: 1.3126 - acc: 0.91 - ETA: 36s - loss: 1.3118 - acc: 0.91 - ETA: 36s - loss: 1.3109 - acc: 0.91 - ETA: 36s - loss: 1.3102 - acc: 0.91 - ETA: 36s - loss: 1.3097 - acc: 0.91 - ETA: 36s - loss: 1.3088 - acc: 0.91 - ETA: 36s - loss: 1.3079 - acc: 0.91 - ETA: 36s - loss: 1.3070 - acc: 0.91 - ETA: 36s - loss: 1.3063 - acc: 0.91 - ETA: 36s - loss: 1.3054 - acc: 0.91 - ETA: 36s - loss: 1.3045 - acc: 0.91 - ETA: 35s - loss: 1.3040 - acc: 0.91 - ETA: 35s - loss: 1.3036 - acc: 0.91 - ETA: 35s - loss: 1.3028 - acc: 0.91 - ETA: 35s - loss: 1.3022 - acc: 0.91 - ETA: 35s - loss: 1.3014 - acc: 0.91 - ETA: 35s - loss: 1.3006 - acc: 0.91 - ETA: 35s - loss: 1.2998 - acc: 0.91 - ETA: 35s - loss: 1.2990 - acc: 0.91 - ETA: 35s - loss: 1.2986 - acc: 0.91 - ETA: 35s - loss: 1.2978 - acc: 0.91 - ETA: 35s - loss: 1.2970 - acc: 0.91 - ETA: 35s - loss: 1.2966 - acc: 0.91 - ETA: 35s - loss: 1.2959 - acc: 0.91 - ETA: 35s - loss: 1.2952 - acc: 0.91 - ETA: 35s - loss: 1.2948 - acc: 0.91 - ETA: 35s - loss: 1.2941 - acc: 0.91 - ETA: 35s - loss: 1.2932 - acc: 0.91 - ETA: 35s - loss: 1.2922 - acc: 0.91 - ETA: 34s - loss: 1.2914 - acc: 0.91 - ETA: 34s - loss: 1.2909 - acc: 0.91 - ETA: 34s - loss: 1.2900 - acc: 0.91 - ETA: 34s - loss: 1.2893 - acc: 0.91 - ETA: 34s - loss: 1.2888 - acc: 0.91 - ETA: 34s - loss: 1.2880 - acc: 0.91 - ETA: 34s - loss: 1.2872 - acc: 0.91 - ETA: 34s - loss: 1.2864 - acc: 0.91 - ETA: 34s - loss: 1.2857 - acc: 0.91 - ETA: 34s - loss: 1.2852 - acc: 0.91 - ETA: 34s - loss: 1.2845 - acc: 0.91 - ETA: 34s - loss: 1.2842 - acc: 0.91 - ETA: 34s - loss: 1.2834 - acc: 0.91 - ETA: 34s - loss: 1.2827 - acc: 0.91 - ETA: 34s - loss: 1.2823 - acc: 0.91 - ETA: 34s - loss: 1.2815 - acc: 0.91 - ETA: 34s - loss: 1.2811 - acc: 0.91 - ETA: 34s - loss: 1.2803 - acc: 0.91 - ETA: 33s - loss: 1.2797 - acc: 0.91 - ETA: 33s - loss: 1.2789 - acc: 0.91 - ETA: 33s - loss: 1.2787 - acc: 0.91 - ETA: 33s - loss: 1.2780 - acc: 0.92 - ETA: 33s - loss: 1.2772 - acc: 0.92 - ETA: 33s - loss: 1.2764 - acc: 0.92 - ETA: 33s - loss: 1.2756 - acc: 0.92 - ETA: 33s - loss: 1.2748 - acc: 0.92 - ETA: 33s - loss: 1.2740 - acc: 0.92 - ETA: 33s - loss: 1.2733 - acc: 0.92 - ETA: 33s - loss: 1.2725 - acc: 0.92 - ETA: 33s - loss: 1.2724 - acc: 0.92 - ETA: 33s - loss: 1.2717 - acc: 0.92 - ETA: 33s - loss: 1.2712 - acc: 0.92 - ETA: 33s - loss: 1.2704 - acc: 0.92 - ETA: 33s - loss: 1.2696 - acc: 0.92 - ETA: 33s - loss: 1.2693 - acc: 0.92 - ETA: 33s - loss: 1.2685 - acc: 0.92 - ETA: 32s - loss: 1.2677 - acc: 0.92 - ETA: 32s - loss: 1.2674 - acc: 0.92 - ETA: 32s - loss: 1.2664 - acc: 0.92 - ETA: 32s - loss: 1.2657 - acc: 0.92 - ETA: 32s - loss: 1.2649 - acc: 0.92 - ETA: 32s - loss: 1.2642 - acc: 0.92 - ETA: 32s - loss: 1.2634 - acc: 0.92 - ETA: 32s - loss: 1.2627 - acc: 0.92 - ETA: 32s - loss: 1.2619 - acc: 0.92 - ETA: 32s - loss: 1.2613 - acc: 0.92 - ETA: 32s - loss: 1.2604 - acc: 0.92 - ETA: 32s - loss: 1.2597 - acc: 0.92 - ETA: 32s - loss: 1.2589 - acc: 0.92 - ETA: 32s - loss: 1.2582 - acc: 0.92 - ETA: 32s - loss: 1.2575 - acc: 0.92 - ETA: 32s - loss: 1.2567 - acc: 0.92 - ETA: 32s - loss: 1.2560 - acc: 0.92 - ETA: 32s - loss: 1.2552 - acc: 0.92 - ETA: 32s - loss: 1.2544 - acc: 0.92 - ETA: 31s - loss: 1.2536 - acc: 0.92 - ETA: 31s - loss: 1.2530 - acc: 0.92 - ETA: 31s - loss: 1.2523 - acc: 0.92 - ETA: 31s - loss: 1.2520 - acc: 0.92 - ETA: 31s - loss: 1.2515 - acc: 0.92 - ETA: 31s - loss: 1.2509 - acc: 0.92 - ETA: 31s - loss: 1.2503 - acc: 0.92 - ETA: 31s - loss: 1.2497 - acc: 0.92 - ETA: 31s - loss: 1.2497 - acc: 0.92 - ETA: 31s - loss: 1.2491 - acc: 0.92 - ETA: 31s - loss: 1.2492 - acc: 0.92 - ETA: 31s - loss: 1.2485 - acc: 0.92 - ETA: 31s - loss: 1.2480 - acc: 0.92 - ETA: 31s - loss: 1.2474 - acc: 0.92 - ETA: 31s - loss: 1.2474 - acc: 0.92 - ETA: 31s - loss: 1.2466 - acc: 0.92 - ETA: 31s - loss: 1.2460 - acc: 0.92 - ETA: 31s - loss: 1.2456 - acc: 0.92 - ETA: 31s - loss: 1.2449 - acc: 0.92 - ETA: 31s - loss: 1.2442 - acc: 0.92 - ETA: 31s - loss: 1.2435 - acc: 0.92 - ETA: 30s - loss: 1.2428 - acc: 0.92 - ETA: 30s - loss: 1.2421 - acc: 0.92 - ETA: 30s - loss: 1.2413 - acc: 0.92 - ETA: 30s - loss: 1.2410 - acc: 0.92 - ETA: 30s - loss: 1.2403 - acc: 0.92 - ETA: 30s - loss: 1.2396 - acc: 0.92 - ETA: 30s - loss: 1.2389 - acc: 0.92 - ETA: 30s - loss: 1.2382 - acc: 0.92 - ETA: 30s - loss: 1.2375 - acc: 0.92 - ETA: 30s - loss: 1.2368 - acc: 0.92 - ETA: 30s - loss: 1.2362 - acc: 0.92 - ETA: 30s - loss: 1.2355 - acc: 0.92 - ETA: 30s - loss: 1.2350 - acc: 0.92 - ETA: 30s - loss: 1.2345 - acc: 0.92 - ETA: 30s - loss: 1.2339 - acc: 0.92 - ETA: 30s - loss: 1.2333 - acc: 0.92 - ETA: 30s - loss: 1.2327 - acc: 0.92 - ETA: 30s - loss: 1.2322 - acc: 0.92 - ETA: 30s - loss: 1.2316 - acc: 0.92 - ETA: 30s - loss: 1.2310 - acc: 0.92 - ETA: 30s - loss: 1.2305 - acc: 0.92 - ETA: 29s - loss: 1.2299 - acc: 0.92 - ETA: 29s - loss: 1.2293 - acc: 0.92 - ETA: 29s - loss: 1.2287 - acc: 0.92 - ETA: 29s - loss: 1.2284 - acc: 0.92 - ETA: 29s - loss: 1.2279 - acc: 0.92 - ETA: 29s - loss: 1.2276 - acc: 0.92 - ETA: 29s - loss: 1.2274 - acc: 0.92 - ETA: 29s - loss: 1.2268 - acc: 0.92 - ETA: 29s - loss: 1.2269 - acc: 0.92 - ETA: 29s - loss: 1.2264 - acc: 0.92 - ETA: 29s - loss: 1.2258 - acc: 0.92 - ETA: 29s - loss: 1.2253 - acc: 0.92 - ETA: 29s - loss: 1.2251 - acc: 0.92 - ETA: 29s - loss: 1.2248 - acc: 0.92 - ETA: 29s - loss: 1.2245 - acc: 0.92 - ETA: 29s - loss: 1.2238 - acc: 0.92 - ETA: 29s - loss: 1.2232 - acc: 0.92 - ETA: 29s - loss: 1.2225 - acc: 0.92 - ETA: 29s - loss: 1.2219 - acc: 0.92 - ETA: 29s - loss: 1.2213 - acc: 0.92 - ETA: 29s - loss: 1.2207 - acc: 0.92 - ETA: 29s - loss: 1.2200 - acc: 0.92 - ETA: 29s - loss: 1.2198 - acc: 0.92 - ETA: 28s - loss: 1.2193 - acc: 0.92 - ETA: 28s - loss: 1.2186 - acc: 0.92 - ETA: 28s - loss: 1.2179 - acc: 0.92 - ETA: 28s - loss: 1.2172 - acc: 0.92 - ETA: 28s - loss: 1.2169 - acc: 0.92 - ETA: 28s - loss: 1.2163 - acc: 0.92 - ETA: 28s - loss: 1.2161 - acc: 0.92 - ETA: 28s - loss: 1.2154 - acc: 0.92 - ETA: 28s - loss: 1.2147 - acc: 0.92 - ETA: 28s - loss: 1.2144 - acc: 0.92 - ETA: 28s - loss: 1.2144 - acc: 0.92 - ETA: 28s - loss: 1.2138 - acc: 0.92 - ETA: 28s - loss: 1.2133 - acc: 0.92 - ETA: 28s - loss: 1.2126 - acc: 0.92 - ETA: 28s - loss: 1.2120 - acc: 0.92 - ETA: 28s - loss: 1.2113 - acc: 0.92 - ETA: 28s - loss: 1.2107 - acc: 0.92 - ETA: 28s - loss: 1.2102 - acc: 0.92 - ETA: 28s - loss: 1.2096 - acc: 0.92 - ETA: 28s - loss: 1.2089 - acc: 0.92 - ETA: 28s - loss: 1.2083 - acc: 0.92 - ETA: 27s - loss: 1.2077 - acc: 0.92 - ETA: 27s - loss: 1.2071 - acc: 0.92 - ETA: 27s - loss: 1.2065 - acc: 0.92 - ETA: 27s - loss: 1.2059 - acc: 0.92 - ETA: 27s - loss: 1.2052 - acc: 0.92 - ETA: 27s - loss: 1.2045 - acc: 0.92 - ETA: 27s - loss: 1.2038 - acc: 0.92 - ETA: 27s - loss: 1.2032 - acc: 0.92 - ETA: 27s - loss: 1.2026 - acc: 0.92 - ETA: 27s - loss: 1.2024 - acc: 0.92 - ETA: 27s - loss: 1.2022 - acc: 0.92 - ETA: 27s - loss: 1.2016 - acc: 0.92 - ETA: 27s - loss: 1.2010 - acc: 0.92 - ETA: 27s - loss: 1.2004 - acc: 0.92 - ETA: 27s - loss: 1.2002 - acc: 0.92 - ETA: 27s - loss: 1.1996 - acc: 0.92 - ETA: 27s - loss: 1.1990 - acc: 0.92 - ETA: 27s - loss: 1.1984 - acc: 0.92 - ETA: 27s - loss: 1.1983 - acc: 0.92 - ETA: 27s - loss: 1.1977 - acc: 0.92 - ETA: 27s - loss: 1.1972 - acc: 0.92 - ETA: 27s - loss: 1.1974 - acc: 0.92 - ETA: 26s - loss: 1.1969 - acc: 0.92 - ETA: 26s - loss: 1.1964 - acc: 0.92 - ETA: 26s - loss: 1.1959 - acc: 0.92 - ETA: 26s - loss: 1.1954 - acc: 0.92 - ETA: 26s - loss: 1.1948 - acc: 0.92 - ETA: 26s - loss: 1.1944 - acc: 0.92 - ETA: 26s - loss: 1.1941 - acc: 0.92 - ETA: 26s - loss: 1.1934 - acc: 0.92 - ETA: 26s - loss: 1.1927 - acc: 0.92 - ETA: 26s - loss: 1.1921 - acc: 0.92 - ETA: 26s - loss: 1.1915 - acc: 0.9254"
     ]
    },
    {
     "name": "stdout",
     "output_type": "stream",
     "text": [
      "51957/59406 [=========================>....] - ETA: 26s - loss: 1.1908 - acc: 0.92 - ETA: 26s - loss: 1.1909 - acc: 0.92 - ETA: 26s - loss: 1.1906 - acc: 0.92 - ETA: 26s - loss: 1.1900 - acc: 0.92 - ETA: 26s - loss: 1.1894 - acc: 0.92 - ETA: 26s - loss: 1.1887 - acc: 0.92 - ETA: 26s - loss: 1.1884 - acc: 0.92 - ETA: 26s - loss: 1.1878 - acc: 0.92 - ETA: 26s - loss: 1.1873 - acc: 0.92 - ETA: 25s - loss: 1.1867 - acc: 0.92 - ETA: 25s - loss: 1.1862 - acc: 0.92 - ETA: 25s - loss: 1.1863 - acc: 0.92 - ETA: 25s - loss: 1.1857 - acc: 0.92 - ETA: 25s - loss: 1.1855 - acc: 0.92 - ETA: 25s - loss: 1.1850 - acc: 0.92 - ETA: 25s - loss: 1.1843 - acc: 0.92 - ETA: 25s - loss: 1.1841 - acc: 0.92 - ETA: 25s - loss: 1.1842 - acc: 0.92 - ETA: 25s - loss: 1.1839 - acc: 0.92 - ETA: 25s - loss: 1.1832 - acc: 0.92 - ETA: 25s - loss: 1.1829 - acc: 0.92 - ETA: 25s - loss: 1.1822 - acc: 0.92 - ETA: 25s - loss: 1.1815 - acc: 0.92 - ETA: 25s - loss: 1.1809 - acc: 0.92 - ETA: 25s - loss: 1.1806 - acc: 0.92 - ETA: 25s - loss: 1.1800 - acc: 0.92 - ETA: 25s - loss: 1.1796 - acc: 0.92 - ETA: 25s - loss: 1.1790 - acc: 0.92 - ETA: 25s - loss: 1.1783 - acc: 0.92 - ETA: 24s - loss: 1.1776 - acc: 0.92 - ETA: 24s - loss: 1.1770 - acc: 0.92 - ETA: 24s - loss: 1.1764 - acc: 0.92 - ETA: 24s - loss: 1.1762 - acc: 0.92 - ETA: 24s - loss: 1.1756 - acc: 0.92 - ETA: 24s - loss: 1.1750 - acc: 0.92 - ETA: 24s - loss: 1.1744 - acc: 0.92 - ETA: 24s - loss: 1.1739 - acc: 0.92 - ETA: 24s - loss: 1.1736 - acc: 0.92 - ETA: 24s - loss: 1.1731 - acc: 0.92 - ETA: 24s - loss: 1.1729 - acc: 0.92 - ETA: 24s - loss: 1.1723 - acc: 0.92 - ETA: 24s - loss: 1.1717 - acc: 0.92 - ETA: 24s - loss: 1.1710 - acc: 0.92 - ETA: 24s - loss: 1.1704 - acc: 0.92 - ETA: 24s - loss: 1.1697 - acc: 0.92 - ETA: 24s - loss: 1.1691 - acc: 0.92 - ETA: 24s - loss: 1.1685 - acc: 0.92 - ETA: 24s - loss: 1.1682 - acc: 0.92 - ETA: 23s - loss: 1.1676 - acc: 0.92 - ETA: 23s - loss: 1.1670 - acc: 0.92 - ETA: 23s - loss: 1.1663 - acc: 0.92 - ETA: 23s - loss: 1.1657 - acc: 0.92 - ETA: 23s - loss: 1.1651 - acc: 0.92 - ETA: 23s - loss: 1.1645 - acc: 0.92 - ETA: 23s - loss: 1.1642 - acc: 0.92 - ETA: 23s - loss: 1.1637 - acc: 0.92 - ETA: 23s - loss: 1.1631 - acc: 0.92 - ETA: 23s - loss: 1.1625 - acc: 0.92 - ETA: 23s - loss: 1.1619 - acc: 0.92 - ETA: 23s - loss: 1.1614 - acc: 0.92 - ETA: 23s - loss: 1.1608 - acc: 0.92 - ETA: 23s - loss: 1.1603 - acc: 0.92 - ETA: 23s - loss: 1.1597 - acc: 0.92 - ETA: 23s - loss: 1.1593 - acc: 0.92 - ETA: 23s - loss: 1.1589 - acc: 0.92 - ETA: 23s - loss: 1.1583 - acc: 0.92 - ETA: 23s - loss: 1.1580 - acc: 0.92 - ETA: 23s - loss: 1.1573 - acc: 0.92 - ETA: 22s - loss: 1.1566 - acc: 0.92 - ETA: 22s - loss: 1.1560 - acc: 0.92 - ETA: 22s - loss: 1.1554 - acc: 0.92 - ETA: 22s - loss: 1.1551 - acc: 0.92 - ETA: 22s - loss: 1.1548 - acc: 0.92 - ETA: 22s - loss: 1.1542 - acc: 0.92 - ETA: 22s - loss: 1.1535 - acc: 0.92 - ETA: 22s - loss: 1.1529 - acc: 0.92 - ETA: 22s - loss: 1.1523 - acc: 0.92 - ETA: 22s - loss: 1.1518 - acc: 0.92 - ETA: 22s - loss: 1.1513 - acc: 0.92 - ETA: 22s - loss: 1.1506 - acc: 0.92 - ETA: 22s - loss: 1.1501 - acc: 0.92 - ETA: 22s - loss: 1.1495 - acc: 0.92 - ETA: 22s - loss: 1.1490 - acc: 0.92 - ETA: 22s - loss: 1.1483 - acc: 0.92 - ETA: 22s - loss: 1.1477 - acc: 0.92 - ETA: 22s - loss: 1.1472 - acc: 0.92 - ETA: 22s - loss: 1.1467 - acc: 0.92 - ETA: 22s - loss: 1.1461 - acc: 0.92 - ETA: 21s - loss: 1.1460 - acc: 0.92 - ETA: 21s - loss: 1.1454 - acc: 0.92 - ETA: 21s - loss: 1.1448 - acc: 0.92 - ETA: 21s - loss: 1.1441 - acc: 0.92 - ETA: 21s - loss: 1.1435 - acc: 0.92 - ETA: 21s - loss: 1.1435 - acc: 0.92 - ETA: 21s - loss: 1.1432 - acc: 0.92 - ETA: 21s - loss: 1.1426 - acc: 0.92 - ETA: 21s - loss: 1.1423 - acc: 0.92 - ETA: 21s - loss: 1.1421 - acc: 0.92 - ETA: 21s - loss: 1.1415 - acc: 0.92 - ETA: 21s - loss: 1.1409 - acc: 0.92 - ETA: 21s - loss: 1.1407 - acc: 0.92 - ETA: 21s - loss: 1.1407 - acc: 0.92 - ETA: 21s - loss: 1.1402 - acc: 0.92 - ETA: 21s - loss: 1.1400 - acc: 0.92 - ETA: 21s - loss: 1.1394 - acc: 0.92 - ETA: 21s - loss: 1.1392 - acc: 0.92 - ETA: 21s - loss: 1.1390 - acc: 0.92 - ETA: 20s - loss: 1.1392 - acc: 0.92 - ETA: 20s - loss: 1.1389 - acc: 0.92 - ETA: 20s - loss: 1.1383 - acc: 0.92 - ETA: 20s - loss: 1.1378 - acc: 0.92 - ETA: 20s - loss: 1.1372 - acc: 0.92 - ETA: 20s - loss: 1.1366 - acc: 0.92 - ETA: 20s - loss: 1.1360 - acc: 0.92 - ETA: 20s - loss: 1.1354 - acc: 0.92 - ETA: 20s - loss: 1.1349 - acc: 0.92 - ETA: 20s - loss: 1.1346 - acc: 0.92 - ETA: 20s - loss: 1.1338 - acc: 0.92 - ETA: 20s - loss: 1.1333 - acc: 0.92 - ETA: 20s - loss: 1.1330 - acc: 0.92 - ETA: 20s - loss: 1.1324 - acc: 0.92 - ETA: 20s - loss: 1.1318 - acc: 0.92 - ETA: 20s - loss: 1.1311 - acc: 0.92 - ETA: 20s - loss: 1.1305 - acc: 0.92 - ETA: 20s - loss: 1.1299 - acc: 0.92 - ETA: 20s - loss: 1.1294 - acc: 0.92 - ETA: 19s - loss: 1.1292 - acc: 0.92 - ETA: 19s - loss: 1.1287 - acc: 0.92 - ETA: 19s - loss: 1.1281 - acc: 0.92 - ETA: 19s - loss: 1.1276 - acc: 0.92 - ETA: 19s - loss: 1.1271 - acc: 0.92 - ETA: 19s - loss: 1.1266 - acc: 0.92 - ETA: 19s - loss: 1.1261 - acc: 0.92 - ETA: 19s - loss: 1.1254 - acc: 0.92 - ETA: 19s - loss: 1.1248 - acc: 0.92 - ETA: 19s - loss: 1.1244 - acc: 0.92 - ETA: 19s - loss: 1.1238 - acc: 0.92 - ETA: 19s - loss: 1.1233 - acc: 0.92 - ETA: 19s - loss: 1.1227 - acc: 0.92 - ETA: 19s - loss: 1.1224 - acc: 0.92 - ETA: 19s - loss: 1.1219 - acc: 0.92 - ETA: 19s - loss: 1.1213 - acc: 0.92 - ETA: 19s - loss: 1.1208 - acc: 0.92 - ETA: 19s - loss: 1.1202 - acc: 0.92 - ETA: 19s - loss: 1.1199 - acc: 0.92 - ETA: 19s - loss: 1.1194 - acc: 0.92 - ETA: 18s - loss: 1.1188 - acc: 0.92 - ETA: 18s - loss: 1.1185 - acc: 0.93 - ETA: 18s - loss: 1.1182 - acc: 0.93 - ETA: 18s - loss: 1.1180 - acc: 0.93 - ETA: 18s - loss: 1.1175 - acc: 0.93 - ETA: 18s - loss: 1.1170 - acc: 0.93 - ETA: 18s - loss: 1.1165 - acc: 0.93 - ETA: 18s - loss: 1.1160 - acc: 0.93 - ETA: 18s - loss: 1.1154 - acc: 0.93 - ETA: 18s - loss: 1.1149 - acc: 0.93 - ETA: 18s - loss: 1.1142 - acc: 0.93 - ETA: 18s - loss: 1.1137 - acc: 0.93 - ETA: 18s - loss: 1.1131 - acc: 0.93 - ETA: 18s - loss: 1.1130 - acc: 0.93 - ETA: 18s - loss: 1.1128 - acc: 0.93 - ETA: 18s - loss: 1.1125 - acc: 0.93 - ETA: 18s - loss: 1.1119 - acc: 0.93 - ETA: 18s - loss: 1.1113 - acc: 0.93 - ETA: 18s - loss: 1.1113 - acc: 0.93 - ETA: 17s - loss: 1.1108 - acc: 0.93 - ETA: 17s - loss: 1.1103 - acc: 0.93 - ETA: 17s - loss: 1.1098 - acc: 0.93 - ETA: 17s - loss: 1.1093 - acc: 0.93 - ETA: 17s - loss: 1.1087 - acc: 0.93 - ETA: 17s - loss: 1.1080 - acc: 0.93 - ETA: 17s - loss: 1.1074 - acc: 0.93 - ETA: 17s - loss: 1.1072 - acc: 0.93 - ETA: 17s - loss: 1.1069 - acc: 0.93 - ETA: 17s - loss: 1.1064 - acc: 0.93 - ETA: 17s - loss: 1.1059 - acc: 0.93 - ETA: 17s - loss: 1.1057 - acc: 0.93 - ETA: 17s - loss: 1.1052 - acc: 0.93 - ETA: 17s - loss: 1.1053 - acc: 0.93 - ETA: 17s - loss: 1.1051 - acc: 0.93 - ETA: 17s - loss: 1.1046 - acc: 0.93 - ETA: 17s - loss: 1.1041 - acc: 0.93 - ETA: 17s - loss: 1.1036 - acc: 0.93 - ETA: 17s - loss: 1.1031 - acc: 0.93 - ETA: 17s - loss: 1.1029 - acc: 0.93 - ETA: 16s - loss: 1.1027 - acc: 0.93 - ETA: 16s - loss: 1.1022 - acc: 0.93 - ETA: 16s - loss: 1.1017 - acc: 0.93 - ETA: 16s - loss: 1.1014 - acc: 0.93 - ETA: 16s - loss: 1.1011 - acc: 0.93 - ETA: 16s - loss: 1.1005 - acc: 0.93 - ETA: 16s - loss: 1.0999 - acc: 0.93 - ETA: 16s - loss: 1.0997 - acc: 0.93 - ETA: 16s - loss: 1.0991 - acc: 0.93 - ETA: 16s - loss: 1.0986 - acc: 0.93 - ETA: 16s - loss: 1.0980 - acc: 0.93 - ETA: 16s - loss: 1.0975 - acc: 0.93 - ETA: 16s - loss: 1.0973 - acc: 0.93 - ETA: 16s - loss: 1.0972 - acc: 0.93 - ETA: 16s - loss: 1.0967 - acc: 0.93 - ETA: 16s - loss: 1.0965 - acc: 0.93 - ETA: 16s - loss: 1.0959 - acc: 0.93 - ETA: 16s - loss: 1.0954 - acc: 0.93 - ETA: 16s - loss: 1.0948 - acc: 0.93 - ETA: 15s - loss: 1.0944 - acc: 0.93 - ETA: 15s - loss: 1.0938 - acc: 0.93 - ETA: 15s - loss: 1.0937 - acc: 0.93 - ETA: 15s - loss: 1.0932 - acc: 0.93 - ETA: 15s - loss: 1.0927 - acc: 0.93 - ETA: 15s - loss: 1.0925 - acc: 0.93 - ETA: 15s - loss: 1.0919 - acc: 0.93 - ETA: 15s - loss: 1.0913 - acc: 0.93 - ETA: 15s - loss: 1.0908 - acc: 0.93 - ETA: 15s - loss: 1.0908 - acc: 0.93 - ETA: 15s - loss: 1.0902 - acc: 0.9317"
     ]
    },
    {
     "name": "stdout",
     "output_type": "stream",
     "text": [
      "57436/59406 [============================>.] - ETA: 15s - loss: 1.0900 - acc: 0.93 - ETA: 15s - loss: 1.0897 - acc: 0.93 - ETA: 15s - loss: 1.0892 - acc: 0.93 - ETA: 15s - loss: 1.0887 - acc: 0.93 - ETA: 15s - loss: 1.0884 - acc: 0.93 - ETA: 15s - loss: 1.0879 - acc: 0.93 - ETA: 15s - loss: 1.0873 - acc: 0.93 - ETA: 15s - loss: 1.0868 - acc: 0.93 - ETA: 14s - loss: 1.0864 - acc: 0.93 - ETA: 14s - loss: 1.0859 - acc: 0.93 - ETA: 14s - loss: 1.0853 - acc: 0.93 - ETA: 14s - loss: 1.0852 - acc: 0.93 - ETA: 14s - loss: 1.0849 - acc: 0.93 - ETA: 14s - loss: 1.0847 - acc: 0.93 - ETA: 14s - loss: 1.0845 - acc: 0.93 - ETA: 14s - loss: 1.0840 - acc: 0.93 - ETA: 14s - loss: 1.0835 - acc: 0.93 - ETA: 14s - loss: 1.0830 - acc: 0.93 - ETA: 14s - loss: 1.0827 - acc: 0.93 - ETA: 14s - loss: 1.0820 - acc: 0.93 - ETA: 14s - loss: 1.0815 - acc: 0.93 - ETA: 14s - loss: 1.0809 - acc: 0.93 - ETA: 14s - loss: 1.0807 - acc: 0.93 - ETA: 14s - loss: 1.0804 - acc: 0.93 - ETA: 14s - loss: 1.0802 - acc: 0.93 - ETA: 14s - loss: 1.0801 - acc: 0.93 - ETA: 14s - loss: 1.0796 - acc: 0.93 - ETA: 13s - loss: 1.0791 - acc: 0.93 - ETA: 13s - loss: 1.0786 - acc: 0.93 - ETA: 13s - loss: 1.0784 - acc: 0.93 - ETA: 13s - loss: 1.0779 - acc: 0.93 - ETA: 13s - loss: 1.0774 - acc: 0.93 - ETA: 13s - loss: 1.0768 - acc: 0.93 - ETA: 13s - loss: 1.0763 - acc: 0.93 - ETA: 13s - loss: 1.0758 - acc: 0.93 - ETA: 13s - loss: 1.0755 - acc: 0.93 - ETA: 13s - loss: 1.0751 - acc: 0.93 - ETA: 13s - loss: 1.0746 - acc: 0.93 - ETA: 13s - loss: 1.0741 - acc: 0.93 - ETA: 13s - loss: 1.0736 - acc: 0.93 - ETA: 13s - loss: 1.0731 - acc: 0.93 - ETA: 13s - loss: 1.0730 - acc: 0.93 - ETA: 13s - loss: 1.0726 - acc: 0.93 - ETA: 13s - loss: 1.0721 - acc: 0.93 - ETA: 13s - loss: 1.0715 - acc: 0.93 - ETA: 13s - loss: 1.0710 - acc: 0.93 - ETA: 13s - loss: 1.0704 - acc: 0.93 - ETA: 12s - loss: 1.0699 - acc: 0.93 - ETA: 12s - loss: 1.0695 - acc: 0.93 - ETA: 12s - loss: 1.0689 - acc: 0.93 - ETA: 12s - loss: 1.0684 - acc: 0.93 - ETA: 12s - loss: 1.0679 - acc: 0.93 - ETA: 12s - loss: 1.0677 - acc: 0.93 - ETA: 12s - loss: 1.0672 - acc: 0.93 - ETA: 12s - loss: 1.0667 - acc: 0.93 - ETA: 12s - loss: 1.0665 - acc: 0.93 - ETA: 12s - loss: 1.0667 - acc: 0.93 - ETA: 12s - loss: 1.0662 - acc: 0.93 - ETA: 12s - loss: 1.0656 - acc: 0.93 - ETA: 12s - loss: 1.0651 - acc: 0.93 - ETA: 12s - loss: 1.0646 - acc: 0.93 - ETA: 12s - loss: 1.0641 - acc: 0.93 - ETA: 12s - loss: 1.0636 - acc: 0.93 - ETA: 12s - loss: 1.0631 - acc: 0.93 - ETA: 12s - loss: 1.0629 - acc: 0.93 - ETA: 12s - loss: 1.0624 - acc: 0.93 - ETA: 11s - loss: 1.0618 - acc: 0.93 - ETA: 11s - loss: 1.0613 - acc: 0.93 - ETA: 11s - loss: 1.0608 - acc: 0.93 - ETA: 11s - loss: 1.0603 - acc: 0.93 - ETA: 11s - loss: 1.0598 - acc: 0.93 - ETA: 11s - loss: 1.0596 - acc: 0.93 - ETA: 11s - loss: 1.0590 - acc: 0.93 - ETA: 11s - loss: 1.0585 - acc: 0.93 - ETA: 11s - loss: 1.0579 - acc: 0.93 - ETA: 11s - loss: 1.0574 - acc: 0.93 - ETA: 11s - loss: 1.0572 - acc: 0.93 - ETA: 11s - loss: 1.0567 - acc: 0.93 - ETA: 11s - loss: 1.0563 - acc: 0.93 - ETA: 11s - loss: 1.0558 - acc: 0.93 - ETA: 11s - loss: 1.0554 - acc: 0.93 - ETA: 11s - loss: 1.0552 - acc: 0.93 - ETA: 11s - loss: 1.0547 - acc: 0.93 - ETA: 11s - loss: 1.0542 - acc: 0.93 - ETA: 11s - loss: 1.0537 - acc: 0.93 - ETA: 10s - loss: 1.0532 - acc: 0.93 - ETA: 10s - loss: 1.0530 - acc: 0.93 - ETA: 10s - loss: 1.0525 - acc: 0.93 - ETA: 10s - loss: 1.0520 - acc: 0.93 - ETA: 10s - loss: 1.0518 - acc: 0.93 - ETA: 10s - loss: 1.0513 - acc: 0.93 - ETA: 10s - loss: 1.0508 - acc: 0.93 - ETA: 10s - loss: 1.0503 - acc: 0.93 - ETA: 10s - loss: 1.0498 - acc: 0.93 - ETA: 10s - loss: 1.0493 - acc: 0.93 - ETA: 10s - loss: 1.0488 - acc: 0.93 - ETA: 10s - loss: 1.0482 - acc: 0.93 - ETA: 10s - loss: 1.0482 - acc: 0.93 - ETA: 10s - loss: 1.0477 - acc: 0.93 - ETA: 10s - loss: 1.0478 - acc: 0.93 - ETA: 10s - loss: 1.0473 - acc: 0.93 - ETA: 10s - loss: 1.0469 - acc: 0.93 - ETA: 10s - loss: 1.0464 - acc: 0.93 - ETA: 9s - loss: 1.0459 - acc: 0.9345 - ETA: 9s - loss: 1.0457 - acc: 0.934 - ETA: 9s - loss: 1.0453 - acc: 0.934 - ETA: 9s - loss: 1.0448 - acc: 0.934 - ETA: 9s - loss: 1.0444 - acc: 0.934 - ETA: 9s - loss: 1.0439 - acc: 0.934 - ETA: 9s - loss: 1.0438 - acc: 0.934 - ETA: 9s - loss: 1.0433 - acc: 0.934 - ETA: 9s - loss: 1.0428 - acc: 0.934 - ETA: 9s - loss: 1.0426 - acc: 0.934 - ETA: 9s - loss: 1.0424 - acc: 0.934 - ETA: 9s - loss: 1.0419 - acc: 0.934 - ETA: 9s - loss: 1.0413 - acc: 0.934 - ETA: 9s - loss: 1.0408 - acc: 0.934 - ETA: 9s - loss: 1.0403 - acc: 0.934 - ETA: 9s - loss: 1.0398 - acc: 0.934 - ETA: 9s - loss: 1.0393 - acc: 0.934 - ETA: 9s - loss: 1.0388 - acc: 0.935 - ETA: 9s - loss: 1.0383 - acc: 0.935 - ETA: 8s - loss: 1.0381 - acc: 0.935 - ETA: 8s - loss: 1.0378 - acc: 0.935 - ETA: 8s - loss: 1.0374 - acc: 0.935 - ETA: 8s - loss: 1.0372 - acc: 0.935 - ETA: 8s - loss: 1.0367 - acc: 0.935 - ETA: 8s - loss: 1.0363 - acc: 0.935 - ETA: 8s - loss: 1.0358 - acc: 0.935 - ETA: 8s - loss: 1.0357 - acc: 0.935 - ETA: 8s - loss: 1.0352 - acc: 0.935 - ETA: 8s - loss: 1.0350 - acc: 0.935 - ETA: 8s - loss: 1.0346 - acc: 0.935 - ETA: 8s - loss: 1.0341 - acc: 0.935 - ETA: 8s - loss: 1.0337 - acc: 0.935 - ETA: 8s - loss: 1.0333 - acc: 0.935 - ETA: 8s - loss: 1.0328 - acc: 0.935 - ETA: 8s - loss: 1.0323 - acc: 0.935 - ETA: 8s - loss: 1.0318 - acc: 0.935 - ETA: 8s - loss: 1.0316 - acc: 0.935 - ETA: 8s - loss: 1.0311 - acc: 0.935 - ETA: 7s - loss: 1.0306 - acc: 0.935 - ETA: 7s - loss: 1.0304 - acc: 0.935 - ETA: 7s - loss: 1.0300 - acc: 0.935 - ETA: 7s - loss: 1.0298 - acc: 0.935 - ETA: 7s - loss: 1.0293 - acc: 0.935 - ETA: 7s - loss: 1.0288 - acc: 0.935 - ETA: 7s - loss: 1.0283 - acc: 0.935 - ETA: 7s - loss: 1.0278 - acc: 0.935 - ETA: 7s - loss: 1.0274 - acc: 0.935 - ETA: 7s - loss: 1.0269 - acc: 0.935 - ETA: 7s - loss: 1.0265 - acc: 0.935 - ETA: 7s - loss: 1.0263 - acc: 0.935 - ETA: 7s - loss: 1.0258 - acc: 0.935 - ETA: 7s - loss: 1.0254 - acc: 0.935 - ETA: 7s - loss: 1.0249 - acc: 0.935 - ETA: 7s - loss: 1.0244 - acc: 0.935 - ETA: 7s - loss: 1.0240 - acc: 0.935 - ETA: 7s - loss: 1.0239 - acc: 0.935 - ETA: 7s - loss: 1.0234 - acc: 0.935 - ETA: 6s - loss: 1.0230 - acc: 0.936 - ETA: 6s - loss: 1.0228 - acc: 0.936 - ETA: 6s - loss: 1.0223 - acc: 0.936 - ETA: 6s - loss: 1.0218 - acc: 0.936 - ETA: 6s - loss: 1.0213 - acc: 0.936 - ETA: 6s - loss: 1.0208 - acc: 0.936 - ETA: 6s - loss: 1.0203 - acc: 0.936 - ETA: 6s - loss: 1.0198 - acc: 0.936 - ETA: 6s - loss: 1.0196 - acc: 0.936 - ETA: 6s - loss: 1.0190 - acc: 0.936 - ETA: 6s - loss: 1.0186 - acc: 0.936 - ETA: 6s - loss: 1.0181 - acc: 0.936 - ETA: 6s - loss: 1.0176 - acc: 0.936 - ETA: 6s - loss: 1.0181 - acc: 0.936 - ETA: 6s - loss: 1.0176 - acc: 0.936 - ETA: 6s - loss: 1.0177 - acc: 0.936 - ETA: 6s - loss: 1.0176 - acc: 0.936 - ETA: 6s - loss: 1.0172 - acc: 0.936 - ETA: 5s - loss: 1.0167 - acc: 0.936 - ETA: 5s - loss: 1.0163 - acc: 0.936 - ETA: 5s - loss: 1.0158 - acc: 0.936 - ETA: 5s - loss: 1.0159 - acc: 0.936 - ETA: 5s - loss: 1.0155 - acc: 0.936 - ETA: 5s - loss: 1.0150 - acc: 0.936 - ETA: 5s - loss: 1.0146 - acc: 0.936 - ETA: 5s - loss: 1.0141 - acc: 0.936 - ETA: 5s - loss: 1.0145 - acc: 0.936 - ETA: 5s - loss: 1.0140 - acc: 0.936 - ETA: 5s - loss: 1.0135 - acc: 0.936 - ETA: 5s - loss: 1.0130 - acc: 0.936 - ETA: 5s - loss: 1.0126 - acc: 0.936 - ETA: 5s - loss: 1.0121 - acc: 0.936 - ETA: 5s - loss: 1.0116 - acc: 0.936 - ETA: 5s - loss: 1.0112 - acc: 0.936 - ETA: 5s - loss: 1.0107 - acc: 0.936 - ETA: 5s - loss: 1.0102 - acc: 0.936 - ETA: 5s - loss: 1.0098 - acc: 0.936 - ETA: 4s - loss: 1.0094 - acc: 0.936 - ETA: 4s - loss: 1.0090 - acc: 0.936 - ETA: 4s - loss: 1.0085 - acc: 0.936 - ETA: 4s - loss: 1.0081 - acc: 0.936 - ETA: 4s - loss: 1.0077 - acc: 0.936 - ETA: 4s - loss: 1.0075 - acc: 0.936 - ETA: 4s - loss: 1.0071 - acc: 0.936 - ETA: 4s - loss: 1.0068 - acc: 0.937 - ETA: 4s - loss: 1.0063 - acc: 0.937 - ETA: 4s - loss: 1.0058 - acc: 0.937 - ETA: 4s - loss: 1.0056 - acc: 0.937 - ETA: 4s - loss: 1.0054 - acc: 0.937 - ETA: 4s - loss: 1.0049 - acc: 0.937 - ETA: 4s - loss: 1.0044 - acc: 0.937 - ETA: 4s - loss: 1.0040 - acc: 0.937 - ETA: 4s - loss: 1.0035 - acc: 0.937 - ETA: 4s - loss: 1.0030 - acc: 0.937 - ETA: 4s - loss: 1.0025 - acc: 0.9372"
     ]
    },
    {
     "name": "stdout",
     "output_type": "stream",
     "text": [
      "59406/59406 [==============================] - ETA: 4s - loss: 1.0023 - acc: 0.937 - ETA: 3s - loss: 1.0018 - acc: 0.937 - ETA: 3s - loss: 1.0017 - acc: 0.937 - ETA: 3s - loss: 1.0013 - acc: 0.937 - ETA: 3s - loss: 1.0008 - acc: 0.937 - ETA: 3s - loss: 1.0007 - acc: 0.937 - ETA: 3s - loss: 1.0002 - acc: 0.937 - ETA: 3s - loss: 0.9998 - acc: 0.937 - ETA: 3s - loss: 0.9999 - acc: 0.937 - ETA: 3s - loss: 0.9995 - acc: 0.937 - ETA: 3s - loss: 0.9990 - acc: 0.937 - ETA: 3s - loss: 0.9986 - acc: 0.937 - ETA: 3s - loss: 0.9987 - acc: 0.937 - ETA: 3s - loss: 0.9985 - acc: 0.937 - ETA: 3s - loss: 0.9981 - acc: 0.937 - ETA: 3s - loss: 0.9976 - acc: 0.937 - ETA: 3s - loss: 0.9971 - acc: 0.937 - ETA: 3s - loss: 0.9967 - acc: 0.937 - ETA: 3s - loss: 0.9965 - acc: 0.937 - ETA: 3s - loss: 0.9963 - acc: 0.937 - ETA: 2s - loss: 0.9959 - acc: 0.937 - ETA: 2s - loss: 0.9957 - acc: 0.937 - ETA: 2s - loss: 0.9958 - acc: 0.937 - ETA: 2s - loss: 0.9953 - acc: 0.937 - ETA: 2s - loss: 0.9951 - acc: 0.937 - ETA: 2s - loss: 0.9946 - acc: 0.937 - ETA: 2s - loss: 0.9942 - acc: 0.937 - ETA: 2s - loss: 0.9938 - acc: 0.937 - ETA: 2s - loss: 0.9940 - acc: 0.937 - ETA: 2s - loss: 0.9936 - acc: 0.937 - ETA: 2s - loss: 0.9932 - acc: 0.937 - ETA: 2s - loss: 0.9928 - acc: 0.937 - ETA: 2s - loss: 0.9924 - acc: 0.937 - ETA: 2s - loss: 0.9922 - acc: 0.937 - ETA: 2s - loss: 0.9921 - acc: 0.937 - ETA: 2s - loss: 0.9919 - acc: 0.937 - ETA: 2s - loss: 0.9915 - acc: 0.937 - ETA: 2s - loss: 0.9914 - acc: 0.937 - ETA: 2s - loss: 0.9912 - acc: 0.937 - ETA: 1s - loss: 0.9907 - acc: 0.938 - ETA: 1s - loss: 0.9906 - acc: 0.938 - ETA: 1s - loss: 0.9901 - acc: 0.938 - ETA: 1s - loss: 0.9899 - acc: 0.938 - ETA: 1s - loss: 0.9898 - acc: 0.938 - ETA: 1s - loss: 0.9894 - acc: 0.938 - ETA: 1s - loss: 0.9889 - acc: 0.938 - ETA: 1s - loss: 0.9884 - acc: 0.938 - ETA: 1s - loss: 0.9879 - acc: 0.938 - ETA: 1s - loss: 0.9875 - acc: 0.938 - ETA: 1s - loss: 0.9873 - acc: 0.938 - ETA: 1s - loss: 0.9872 - acc: 0.938 - ETA: 1s - loss: 0.9868 - acc: 0.938 - ETA: 1s - loss: 0.9864 - acc: 0.938 - ETA: 1s - loss: 0.9860 - acc: 0.938 - ETA: 1s - loss: 0.9858 - acc: 0.938 - ETA: 1s - loss: 0.9857 - acc: 0.938 - ETA: 1s - loss: 0.9852 - acc: 0.938 - ETA: 0s - loss: 0.9854 - acc: 0.938 - ETA: 0s - loss: 0.9849 - acc: 0.938 - ETA: 0s - loss: 0.9845 - acc: 0.938 - ETA: 0s - loss: 0.9841 - acc: 0.938 - ETA: 0s - loss: 0.9839 - acc: 0.938 - ETA: 0s - loss: 0.9834 - acc: 0.938 - ETA: 0s - loss: 0.9829 - acc: 0.938 - ETA: 0s - loss: 0.9825 - acc: 0.938 - ETA: 0s - loss: 0.9821 - acc: 0.938 - ETA: 0s - loss: 0.9816 - acc: 0.938 - ETA: 0s - loss: 0.9812 - acc: 0.938 - ETA: 0s - loss: 0.9807 - acc: 0.938 - ETA: 0s - loss: 0.9806 - acc: 0.938 - ETA: 0s - loss: 0.9801 - acc: 0.938 - ETA: 0s - loss: 0.9797 - acc: 0.938 - ETA: 0s - loss: 0.9796 - acc: 0.938 - ETA: 0s - loss: 0.9792 - acc: 0.938 - ETA: 0s - loss: 0.9788 - acc: 0.938 - ETA: 0s - loss: 0.9784 - acc: 0.938 - 123s 2ms/step - loss: 0.9782 - acc: 0.9388\n",
      "Training finished \n",
      "\n"
     ]
    }
   ],
   "source": [
    "### Train model using DNN.\n",
    "init = K.initializers.glorot_uniform(seed=1)\n",
    "simple_adam = K.optimizers.Adam()\n",
    "model = K.models.Sequential()\n",
    "model.add(K.layers.Dense(units=5, input_dim=60, kernel_initializer=init, activation='relu'))\n",
    "model.add(K.layers.Dense(units=6, kernel_initializer=init, activation='relu'))\n",
    "model.add(K.layers.Dense(units=1, kernel_initializer=init, activation='sigmoid'))\n",
    "model.compile(loss='binary_crossentropy', optimizer=simple_adam, metrics=['accuracy'])\n",
    "\n",
    "#### The score of DNN is: 0.53\n",
    "from sklearn.preprocessing import LabelBinarizer\n",
    "lb = LabelBinarizer()\n",
    "lb.fit(train_y)\n",
    "train_labels = lb.transform(train_y)\n",
    "test_labels = lb.transform(test_y)\n",
    "\n",
    "print()\n",
    "\n",
    "b_size = 1\n",
    "max_epochs = 100\n",
    "print(\"Starting training \")\n",
    "h = model.fit(select_train_x, train_labels, batch_size=b_size, epochs=max_epochs, shuffle=True, verbose=1)\n",
    "print(\"Training finished \\n\")\n",
    "\n"
   ]
  },
  {
   "cell_type": "code",
   "execution_count": 92,
   "metadata": {},
   "outputs": [
    {
     "name": "stdout",
     "output_type": "stream",
     "text": [
      "[0.00000000e+00 5.88310526e-04 8.44097711e-04 8.69676429e-04\n",
      " 1.00000000e+00] [0.         0.00588235 0.00588235 0.00588235 1.        ] [2.0000000e+00 1.0000000e+00 2.9458225e-01 3.9806012e-20 0.0000000e+00]\n",
      "tpr at each level: \n",
      "{'r1': 0.0058823529411764705, 'r2': 0.0058823529411764705, 'r3': 0.0058823529411764705}\n",
      "final score \t: 0.0058823529411764705 \n"
     ]
    },
    {
     "data": {
      "image/png": "[encoded data removed]",
      "text/plain": [
       "<Figure size 432x288 with 1 Axes>"
      ]
     },
     "metadata": {
      "needs_background": "light"
     },
     "output_type": "display_data"
    }
   ],
   "source": [
    "### Evaluate the performance of DNN model.\n",
    "\n",
    "probas = model.predict(select_test_x)\n",
    "\n",
    "fpr, tpr, thresholds = roc_curve(test_y, probas[:, 0],pos_label=1)\n",
    "\n",
    "fpr_dic = {'r1':0.001, 'r2':0.005, 'r3':0.01}\n",
    "tpr_dic = {}\n",
    "\n",
    "for k, fpr_thres in fpr_dic.items():\n",
    "    index = np.argmin(abs(fpr - fpr_thres))\n",
    "    tpr_dic[k] = tpr[index]\n",
    "print( fpr, tpr, thresholds )\n",
    "final_score = 0.4*tpr_dic['r1'] + 0.3*tpr_dic['r2'] + 0.3*tpr_dic['r3']\n",
    "\n",
    "print('tpr at each level: ')\n",
    "print(tpr_dic)\n",
    "print('final score \\t: {} '.format(final_score))\n",
    "\n",
    "### plot roc curve.\n",
    "\n",
    "plt.title('ROC Curve.')\n",
    "plt.plot(fpr, tpr, 'b', label='Score = %0.2f'% final_score)\n",
    "plt.legend(loc='lower right')\n",
    "plt.plot([0,1],[0,1],'r--')\n",
    "plt.xlim([-0.1,1.2])\n",
    "plt.ylim([-0.1,1.2])\n",
    "plt.ylabel('tpr')\n",
    "plt.xlabel('fpr')\n",
    "plt.show()    "
   ]
  }
 ],
 "metadata": {
  "kernelspec": {
   "display_name": "Python 3",
   "language": "python",
   "name": "python3"
  },
  "language_info": {
   "codemirror_mode": {
    "name": "ipython",
    "version": 3
   },
   "file_extension": ".py",
   "mimetype": "text/x-python",
   "name": "python",
   "nbconvert_exporter": "python",
   "pygments_lexer": "ipython3",
   "version": "3.8.0"
  }
 },
 "nbformat": 4,
 "nbformat_minor": 2
}
